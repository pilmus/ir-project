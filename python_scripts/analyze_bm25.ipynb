{
 "cells": [
  {
   "cell_type": "code",
   "execution_count": 1,
   "metadata": {
    "collapsed": true
   },
   "outputs": [],
   "source": [
    "import csv\n",
    "import pprint\n",
    "\n",
    "import pandas as pd\n",
    "from pyserini.index import IndexReader"
   ]
  },
  {
   "cell_type": "code",
   "execution_count": 2,
   "outputs": [],
   "source": [
    "index_reader = IndexReader(\"../indexes/msmarco-doc/lucene-index-msmarco\")\n",
    "\n"
   ],
   "metadata": {
    "collapsed": false,
    "pycharm": {
     "name": "#%%\n"
    }
   }
  },
  {
   "cell_type": "code",
   "execution_count": 3,
   "outputs": [],
   "source": [
    "rundict = {}\n",
    "with open('../data/run.msmarco-doc.test.bm25.txt') as runfile:\n",
    "    reader = csv.reader(runfile, delimiter=' ')\n",
    "\n",
    "    count = 0\n",
    "    for [qid, _, docid, _, _, _] in reader:\n",
    "        if qid not in rundict:\n",
    "            rundict[qid] = []\n",
    "        rundict[qid].append(docid)"
   ],
   "metadata": {
    "collapsed": false,
    "pycharm": {
     "name": "#%%\n"
    }
   }
  },
  {
   "cell_type": "code",
   "execution_count": 4,
   "outputs": [],
   "source": [
    "rundict = {k:v[:100] for k,v in rundict.items()}"
   ],
   "metadata": {
    "collapsed": false,
    "pycharm": {
     "name": "#%%\n"
    }
   }
  },
  {
   "cell_type": "code",
   "execution_count": 5,
   "outputs": [],
   "source": [
    "test_qrels = {}\n",
    "with open('../data/msmarco-doctest-qrels.tsv') as qrels:\n",
    "    reader = csv.reader(qrels, delimiter=' ')\n",
    "\n",
    "    for [qid, _, docid, rel] in reader:\n",
    "        if qid not in test_qrels:\n",
    "            test_qrels[qid] = {}\n",
    "        test_qrels[qid][docid] = rel"
   ],
   "metadata": {
    "collapsed": false,
    "pycharm": {
     "name": "#%%\n"
    }
   }
  },
  {
   "cell_type": "code",
   "execution_count": 6,
   "outputs": [],
   "source": [
    "qdict = {}\n",
    "with open('../data/msmarco-doctest-queries.tsv') as qfile:\n",
    "    reader = csv.reader(qfile, delimiter='\\t')\n",
    "    for [qid, q] in reader:\n",
    "        qdict[qid] = q"
   ],
   "metadata": {
    "collapsed": false,
    "pycharm": {
     "name": "#%%\n"
    }
   }
  },
  {
   "cell_type": "code",
   "execution_count": 7,
   "outputs": [],
   "source": [
    "metric_dict = {}\n",
    "\n",
    "with open('../data/bm25_metrics.txt') as mf:\n",
    "    reader = csv.reader(mf, delimiter='\\t')\n",
    "    for [metric, id, value] in reader:\n",
    "        if id not in metric_dict:\n",
    "            metric_dict[id] = {}\n",
    "        metric_dict[id][metric] = value\n",
    "metric_list = [[k] + list(v.values()) for k, v in metric_dict.items()]\n",
    "\n"
   ],
   "metadata": {
    "collapsed": false,
    "pycharm": {
     "name": "#%%\n"
    }
   }
  },
  {
   "cell_type": "code",
   "execution_count": 8,
   "outputs": [],
   "source": [
    "top100dict = {}\n",
    "\n",
    "with open('../data/msmarco-doctest-top100.tsv') as tf:\n",
    "    reader = csv.reader(tf, delimiter=' ')\n",
    "    for [qid, _, docid, _, _, _] in reader:\n",
    "        if qid not in top100dict:\n",
    "            top100dict[qid] = []\n",
    "        top100dict[qid].append(docid)\n",
    "# top100dict"
   ],
   "metadata": {
    "collapsed": false,
    "pycharm": {
     "name": "#%%\n"
    }
   }
  },
  {
   "cell_type": "code",
   "execution_count": 9,
   "outputs": [],
   "source": [
    "def df_from_records(records):\n",
    "\n",
    "    df = pd.DataFrame.from_records(records, columns=['qid','map', 'mrr', 'ndcg'])\n",
    "    return df\n",
    "\n"
   ],
   "metadata": {
    "collapsed": false,
    "pycharm": {
     "name": "#%%\n"
    }
   }
  },
  {
   "cell_type": "code",
   "execution_count": 10,
   "outputs": [],
   "source": [
    "df = df_from_records(metric_list)"
   ],
   "metadata": {
    "collapsed": false,
    "pycharm": {
     "name": "#%%\n"
    }
   }
  },
  {
   "cell_type": "code",
   "execution_count": 11,
   "outputs": [
    {
     "data": {
      "text/plain": "           qid     map     mrr    ndcg\ncount       44      44      44      44\nunique      44      44       7      43\ntop     359349  0.0663  1.0000  0.0000\nfreq         1       1      30       2",
      "text/html": "<div>\n<style scoped>\n    .dataframe tbody tr th:only-of-type {\n        vertical-align: middle;\n    }\n\n    .dataframe tbody tr th {\n        vertical-align: top;\n    }\n\n    .dataframe thead th {\n        text-align: right;\n    }\n</style>\n<table border=\"1\" class=\"dataframe\">\n  <thead>\n    <tr style=\"text-align: right;\">\n      <th></th>\n      <th>qid</th>\n      <th>map</th>\n      <th>mrr</th>\n      <th>ndcg</th>\n    </tr>\n  </thead>\n  <tbody>\n    <tr>\n      <th>count</th>\n      <td>44</td>\n      <td>44</td>\n      <td>44</td>\n      <td>44</td>\n    </tr>\n    <tr>\n      <th>unique</th>\n      <td>44</td>\n      <td>44</td>\n      <td>7</td>\n      <td>43</td>\n    </tr>\n    <tr>\n      <th>top</th>\n      <td>359349</td>\n      <td>0.0663</td>\n      <td>1.0000</td>\n      <td>0.0000</td>\n    </tr>\n    <tr>\n      <th>freq</th>\n      <td>1</td>\n      <td>1</td>\n      <td>30</td>\n      <td>2</td>\n    </tr>\n  </tbody>\n</table>\n</div>"
     },
     "execution_count": 11,
     "metadata": {},
     "output_type": "execute_result"
    }
   ],
   "source": [
    "df.describe()\n"
   ],
   "metadata": {
    "collapsed": false,
    "pycharm": {
     "name": "#%%\n"
    }
   }
  },
  {
   "cell_type": "code",
   "execution_count": 12,
   "outputs": [
    {
     "data": {
      "text/plain": "Int64Index([38, 42, 12, 28, 15, 10, 17, 18, 13, 39,  9, 23, 37,  8, 16, 40, 21,\n            29, 36, 25, 26, 19, 11, 34, 22, 20, 43, 27, 24,  5, 35, 32,  3, 14,\n             2,  4, 41,  6, 31,  7, 33,  1, 30,  0],\n           dtype='int64')"
     },
     "execution_count": 12,
     "metadata": {},
     "output_type": "execute_result"
    }
   ],
   "source": [
    "df.sort_values(by=['ndcg'], ascending=False).index\n"
   ],
   "metadata": {
    "collapsed": false,
    "pycharm": {
     "name": "#%%\n"
    }
   }
  },
  {
   "cell_type": "code",
   "execution_count": 55,
   "outputs": [],
   "source": [
    "qid = df.iloc[30]['qid']\n",
    "query = qdict[qid]"
   ],
   "metadata": {
    "collapsed": false,
    "pycharm": {
     "name": "#%%\n"
    }
   }
  },
  {
   "cell_type": "code",
   "execution_count": 28,
   "outputs": [],
   "source": [
    "doclist = rundict[qid]"
   ],
   "metadata": {
    "collapsed": false,
    "pycharm": {
     "name": "#%%\n"
    }
   }
  },
  {
   "cell_type": "code",
   "execution_count": 29,
   "outputs": [],
   "source": [
    "pp = pprint.PrettyPrinter(indent=4)"
   ],
   "metadata": {
    "collapsed": false,
    "pycharm": {
     "name": "#%%\n"
    }
   }
  },
  {
   "cell_type": "code",
   "execution_count": 30,
   "outputs": [
    {
     "name": "stdout",
     "output_type": "stream",
     "text": [
      "'lps laws definition'\n"
     ]
    }
   ],
   "source": [
    "pp.pprint(qdict[qid])"
   ],
   "metadata": {
    "collapsed": false,
    "pycharm": {
     "name": "#%%\n"
    }
   }
  },
  {
   "cell_type": "code",
   "execution_count": 58,
   "outputs": [
    {
     "name": "stdout",
     "output_type": "stream",
     "text": [
      "OG docs for ``lps laws definition'': 195\n",
      "BM25 docs for ``lps laws definition'': 9\n"
     ]
    }
   ],
   "source": [
    "# count the number of relevant documents\n",
    "docs_og = []\n",
    "docs_bm25 = []\n",
    "for docid, label in test_qrels[qid].items():\n",
    "    if int(label) != 0:\n",
    "        docs_og.append(docid)\n",
    "        if docid in doclist:\n",
    "            docs_bm25.append(docid)\n",
    "print(f\"OG docs for ``{query}'': {len(docs_og)}\")\n",
    "print(f\"BM25 docs for ``{query}'': {len(docs_bm25)}\")\n"
   ],
   "metadata": {
    "collapsed": false,
    "pycharm": {
     "name": "#%%\n"
    }
   }
  },
  {
   "cell_type": "code",
   "execution_count": 83,
   "outputs": [
    {
     "name": "stdout",
     "output_type": "stream",
     "text": [
      "1 D1014847\n",
      "1 D1014848\n",
      "1 D1053817\n",
      "1 D1068540\n",
      "1 D110770\n",
      "1 D110772\n",
      "1 D1117710\n",
      "1 D1117714\n",
      "1 D1117718\n",
      "1 D1151607\n",
      "1 D1176489\n",
      "1 D118226\n",
      "1 D118227\n",
      "1 D118228\n",
      "2 D118230\n",
      "1 D1253531\n",
      "1 D1296134\n",
      "1 D1311771\n",
      "1 D1311772\n",
      "1 D1311773\n",
      "1 D1311774\n",
      "1 D1311775\n",
      "1 D1319289\n",
      "1 D132260\n",
      "1 D1335657\n",
      "1 D135630\n",
      "1 D1422369\n",
      "1 D1422370\n",
      "1 D1431884\n",
      "1 D1432650\n",
      "1 D1463439\n",
      "1 D147816\n",
      "1 D1501381\n",
      "1 D1539715\n",
      "1 D1539718\n",
      "1 D1561118\n",
      "1 D1617163\n",
      "3 D1628366\n",
      "1 D1657830\n",
      "2 D1657833\n",
      "1 D1766592\n",
      "1 D1798970\n",
      "1 D1798972\n",
      "1 D1815619\n",
      "1 D1904191\n",
      "2 D1961803\n",
      "2 D1986028\n",
      "1 D2057812\n",
      "1 D2063950\n",
      "1 D2076494\n",
      "1 D2107278\n",
      "1 D2140801\n",
      "1 D2142273\n",
      "2 D2144809\n",
      "1 D2154218\n",
      "2 D2155969\n",
      "1 D2162303\n",
      "2 D2167562\n",
      "1 D2170788\n",
      "1 D2170789\n",
      "1 D2170790\n",
      "1 D2170791\n",
      "1 D2206673\n",
      "1 D2206674\n",
      "1 D2213169\n",
      "2 D2236787\n",
      "3 D2236788\n",
      "1 D2296762\n",
      "2 D2296763\n",
      "2 D2326994\n",
      "1 D2369118\n",
      "1 D2372219\n",
      "1 D240798\n",
      "1 D2411978\n",
      "1 D2450429\n",
      "1 D2622974\n",
      "1 D2629533\n",
      "1 D2630591\n",
      "1 D2671265\n",
      "1 D2691824\n",
      "1 D2691825\n",
      "1 D2697580\n",
      "1 D2707959\n",
      "1 D2767598\n",
      "1 D2788150\n",
      "3 D287672\n",
      "2 D2877639\n",
      "1 D2881629\n",
      "3 D2897764\n",
      "1 D2921023\n",
      "1 D2936155\n",
      "1 D2936157\n",
      "1 D2936160\n",
      "1 D2973936\n",
      "1 D2973937\n",
      "1 D2973940\n",
      "1 D2973941\n",
      "1 D2978086\n",
      "2 D2980588\n",
      "1 D2999304\n",
      "2 D300040\n",
      "1 D3058390\n",
      "1 D3058391\n",
      "2 D3058392\n",
      "2 D3078467\n",
      "2 D3115644\n",
      "1 D3115645\n",
      "1 D3118825\n",
      "1 D3124633\n",
      "2 D314986\n",
      "2 D314987\n",
      "1 D3159829\n",
      "2 D3161288\n",
      "1 D3185205\n",
      "1 D3188159\n",
      "1 D3198311\n",
      "1 D3205472\n",
      "1 D3206428\n",
      "1 D3235726\n",
      "1 D3267639\n",
      "1 D3274167\n",
      "1 D3279390\n",
      "2 D3284178\n",
      "1 D329730\n",
      "1 D329732\n",
      "1 D3309522\n",
      "1 D3310475\n",
      "1 D3314346\n",
      "1 D3346684\n",
      "1 D3361719\n",
      "1 D3361720\n",
      "1 D3418752\n",
      "2 D3424738\n",
      "1 D3544583\n",
      "1 D3544584\n",
      "1 D3544585\n",
      "1 D398361\n",
      "1 D406657\n",
      "1 D411870\n",
      "1 D4196\n",
      "1 D442037\n",
      "1 D45284\n",
      "2 D464645\n",
      "1 D492286\n",
      "1 D492287\n",
      "1 D492289\n",
      "1 D492290\n",
      "1 D492291\n",
      "2 D534167\n",
      "1 D565249\n",
      "2 D572436\n",
      "2 D572437\n",
      "1 D572439\n",
      "1 D574193\n",
      "3 D657187\n",
      "2 D740104\n",
      "1 D740105\n",
      "2 D740108\n",
      "1 D740110\n",
      "1 D743441\n",
      "1 D743443\n",
      "1 D743445\n",
      "1 D743448\n",
      "1 D743449\n",
      "1 D755460\n",
      "3 D766522\n",
      "1 D807447\n",
      "1 D807448\n",
      "1 D807449\n",
      "1 D807450\n",
      "1 D807451\n",
      "1 D80786\n",
      "2 D822061\n",
      "2 D843514\n",
      "1 D843517\n",
      "2 D843519\n",
      "2 D854138\n",
      "1 D86142\n",
      "1 D907010\n",
      "1 D937565\n",
      "1 D980579\n",
      "2 D981160\n",
      "3 D981162\n",
      "2 D981163\n",
      "1 D981164\n",
      "2 D981165\n"
     ]
    }
   ],
   "source": [
    "missed_docs = [docid for docid in docs_og if not docid in docs_bm25]\n",
    "\n",
    "for missed_doc in missed_docs:\n",
    "    doc_raw = index_reader.doc_raw(missed_doc)\n",
    "    print(f\"{test_qrels[qid][missed_doc]} {missed_doc}\")"
   ],
   "metadata": {
    "collapsed": false,
    "pycharm": {
     "name": "#%%\n"
    }
   }
  },
  {
   "cell_type": "code",
   "execution_count": 85,
   "outputs": [
    {
     "name": "stdout",
     "output_type": "stream",
     "text": [
      "'D1628366: 8/2400 -> 0.33%, 0.04%'\n",
      "'D2236788: 4/1269 -> 0.32%, 0.03%'\n",
      "'D287672: 0/391 -> 0.0%, 0.0%'\n",
      "'D2897764: 0/97 -> 0.0%, 0.0%'\n",
      "'D657187: 12/1140 -> 1.05%, 0.11%'\n",
      "'D766522: 7/851 -> 0.82%, 0.09%'\n",
      "'D981162: 3/702 -> 0.43%, 0.04%'\n"
     ]
    }
   ],
   "source": [
    "top_missed = []\n",
    "analys = index_reader.analyze(qdict[qid])\n",
    "for missed_doc in missed_docs:\n",
    "    termcount = 0\n",
    "    vec = index_reader.get_document_vector(missed_doc)\n",
    "    raw_len = len(index_reader.doc_raw(missed_doc))\n",
    "    if test_qrels[qid][missed_doc] == '3':\n",
    "        top_missed.append(missed_doc)\n",
    "        for term in analys:\n",
    "            termcount += vec.get(term,0)\n",
    "        tot = sum([vv for vv in vec.values() if vv is not None])\n",
    "        pp.pprint(f\"{missed_doc}: {termcount}/{tot} -> {round(termcount/tot * 100,2)}%, {round(termcount/raw_len * 100,2)}%\")\n"
   ],
   "metadata": {
    "collapsed": false,
    "pycharm": {
     "name": "#%%\n"
    }
   }
  },
  {
   "cell_type": "code",
   "execution_count": 65,
   "outputs": [
    {
     "name": "stdout",
     "output_type": "stream",
     "text": [
      "'32 D1245575'\n",
      "'42 D214330'\n",
      "'80 D2667112'\n",
      "'12 D3205474'\n",
      "'93 D3451687'\n",
      "'67 D3451688'\n",
      "'62 D572440'\n",
      "'68 D574190'\n",
      "'81 D854131'\n"
     ]
    }
   ],
   "source": [
    "for doc in docs_bm25:\n",
    "    rank = doclist.index(doc) + 1\n",
    "    pp.pprint(f\"{rank} {doc}\")"
   ],
   "metadata": {
    "collapsed": false,
    "pycharm": {
     "name": "#%%\n"
    }
   }
  },
  {
   "cell_type": "code",
   "execution_count": 66,
   "outputs": [
    {
     "name": "stdout",
     "output_type": "stream",
     "text": [
      "'1 D3431635, label: 0'\n",
      "'length: 27050'\n",
      "'2 D1925226, label: 0'\n",
      "'length: 29329'\n",
      "'3 D686052, label: 0'\n",
      "'length: 13408'\n",
      "'4 D1024943, label: 0'\n",
      "'length: 2617'\n",
      "'5 D3272237, label: 0'\n",
      "'length: 2618'\n",
      "'6 D1994699, label: 0'\n",
      "'length: 4718'\n",
      "'7 D949868, label: 0'\n",
      "'length: 4964'\n",
      "'8 D1513011, label: 0'\n",
      "'length: 9643'\n",
      "'9 D69628, label: 0'\n",
      "'length: 10059'\n",
      "'10 D525396, label: 0'\n",
      "'length: 14119'\n"
     ]
    }
   ],
   "source": [
    "for i in range(0,10):\n",
    "    docid = doclist[i]\n",
    "    rel = test_qrels[qid][docid]\n",
    "    if int(rel) != 0:\n",
    "        continue\n",
    "    pp.pprint(f\"{i+1} {docid}, label: {test_qrels[qid][docid]}\")\n"
   ],
   "metadata": {
    "collapsed": false,
    "pycharm": {
     "name": "#%%\n"
    }
   }
  },
  {
   "cell_type": "code",
   "execution_count": 92,
   "outputs": [],
   "source": [
    "def get_doc_stats(docs):\n",
    "    for iii in docs:\n",
    "        # pp.pprint(f\"{doclist.index(iii)} docid: {iii}\")\n",
    "        pp.pprint(f\"docid: {iii}\")\n",
    "        termcount = 0\n",
    "        vec = index_reader.get_document_vector(iii)\n",
    "        raw_len = len(index_reader.doc_raw(iii))\n",
    "        for term in analys + ['lps']:\n",
    "            pp.pprint(f\"{term}: {index_reader.get_document_vector(iii).get(term, '')}\")\n",
    "            termcount += vec.get(term,0)\n",
    "        termsum = sum([vv for vv in vec.values() if vv is not None])\n",
    "        pp.pprint(f\"{termcount}/{termsum} -> {round(termcount/termsum * 100,2)}%\")\n",
    "        pp.pprint(f\"{termcount}/{raw_len} -> {round(termcount/raw_len * 100,2)}%\")\n",
    "\n",
    "        pp.pprint(f\"words: {len(index_reader.doc_raw(iii))}\")\n",
    "        pp.pprint(f\"terms: {sum([v for v in index_reader.get_document_vector(iii).values() if v is not None])}\")\n",
    "        pp.pprint(index_reader.doc_raw(iii)[:10])\n",
    "        print(\"\\n\")\n"
   ],
   "metadata": {
    "collapsed": false,
    "pycharm": {
     "name": "#%%\n"
    }
   }
  },
  {
   "cell_type": "code",
   "execution_count": 93,
   "outputs": [
    {
     "name": "stdout",
     "output_type": "stream",
     "text": [
      "'docid: D1628366'\n",
      "'lp: 5'\n",
      "'law: 3'\n",
      "'definit: '\n",
      "'lps: '\n",
      "'8/2400 -> 0.33%'\n",
      "'8/21387 -> 0.04%'\n",
      "'words: 21387'\n",
      "'terms: 2400'\n",
      "'<TEXT>\\nhtt'\n",
      "\n",
      "\n",
      "'docid: D2236788'\n",
      "'lp: '\n",
      "'law: 4'\n",
      "'definit: '\n",
      "'lps: '\n",
      "'4/1269 -> 0.32%'\n",
      "'4/11475 -> 0.03%'\n",
      "'words: 11475'\n",
      "'terms: 1269'\n",
      "'<TEXT>\\nhtt'\n",
      "\n",
      "\n",
      "'docid: D287672'\n",
      "'lp: '\n",
      "'law: '\n",
      "'definit: '\n",
      "'lps: '\n",
      "'0/391 -> 0.0%'\n",
      "'0/3581 -> 0.0%'\n",
      "'words: 3581'\n",
      "'terms: 391'\n",
      "'<TEXT>\\nhtt'\n",
      "\n",
      "\n",
      "'docid: D2897764'\n",
      "'lp: '\n",
      "'law: '\n",
      "'definit: '\n",
      "'lps: '\n",
      "'0/97 -> 0.0%'\n",
      "'0/849 -> 0.0%'\n",
      "'words: 849'\n",
      "'terms: 97'\n",
      "'<TEXT>\\nhtt'\n",
      "\n",
      "\n",
      "'docid: D657187'\n",
      "'lp: '\n",
      "'law: 12'\n",
      "'definit: '\n",
      "'lps: '\n",
      "'12/1140 -> 1.05%'\n",
      "'12/10924 -> 0.11%'\n",
      "'words: 10924'\n",
      "'terms: 1140'\n",
      "'<TEXT>\\nhtt'\n",
      "\n",
      "\n",
      "'docid: D766522'\n",
      "'lp: '\n",
      "'law: 7'\n",
      "'definit: '\n",
      "'lps: '\n",
      "'7/851 -> 0.82%'\n",
      "'7/8127 -> 0.09%'\n",
      "'words: 8127'\n",
      "'terms: 851'\n",
      "'<TEXT>\\nhtt'\n",
      "\n",
      "\n",
      "'docid: D981162'\n",
      "'lp: 1'\n",
      "'law: 2'\n",
      "'definit: '\n",
      "'lps: '\n",
      "'3/702 -> 0.43%'\n",
      "'3/6738 -> 0.04%'\n",
      "'words: 6738'\n",
      "'terms: 702'\n",
      "'<TEXT>\\nhtt'\n",
      "\n",
      "\n"
     ]
    }
   ],
   "source": [
    "get_doc_stats(top_missed)\n"
   ],
   "metadata": {
    "collapsed": false,
    "pycharm": {
     "name": "#%%\n"
    }
   }
  },
  {
   "cell_type": "code",
   "execution_count": 96,
   "outputs": [
    {
     "name": "stdout",
     "output_type": "stream",
     "text": [
      "('<TEXT>\\n'\n",
      " 'http://www.scscourt.org/self_help/probate/conservatorship/conservatorship_overview.shtml\\n'\n",
      " '.\\n'\n",
      " 'This section tells you about probate conservatorships.\\n'\n",
      " 'Probate conservatorships are only for adults over 18.\\n'\n",
      " 'If you are trying to help a child (minor), see the guardianship section of '\n",
      " 'this website.\\n'\n",
      " 'Click on a topic to learn more:\\n'\n",
      " 'What is probate conservatorship?\\n'\n",
      " 'If I become conservator of the person, will I automatically become '\n",
      " 'conservator of the estate?\\n'\n",
      " 'Is a probate conservatorship different from a mental health (LPS) '\n",
      " 'conservatorship?\\n'\n",
      " 'Is a probate conservatorship different from a limited conservatorship?\\n'\n",
      " 'Who can file for conservatorship?\\n'\n",
      " 'Who can be appointed as conservator?\\n'\n",
      " 'What if no one is qualified to be conservator?\\n'\n",
      " 'When should the Public Guardian be conservator?\\n'\n",
      " 'Can I make medical decisions for the conservatee?\\n'\n",
      " 'Can I make estate planning decisions for the conservatee?\\n'\n",
      " 'What does the court investigator do in conservatorship cases?\\n'\n",
      " 'Does the court investigator stay in touch with the conservatee?\\n'\n",
      " 'When can I establish a probate conservatorship?\\n'\n",
      " 'How do I establish a conservatorship?\\n'\n",
      " 'How can I learn more about conservatorships?\\n'\n",
      " 'What is a probate conservatorship?\\n'\n",
      " 'A probate conservatorship is a court proceeding where a judge appoints a '\n",
      " 'responsible person (called a conservator) to care for another adult who '\n",
      " 'cannot care for him/herself or his/her finances (called a conservatee).\\n'\n",
      " 'The person the Court appoints as conservator must be very responsible.\\n'\n",
      " 'There are two kinds of conservators:\\n'\n",
      " 'A conservator of the person cares for and protects a person when the judge '\n",
      " 'decides that the person (called the \"conservatee\") can’t do it.\\n'\n",
      " 'A conservator of the estate handles the conservatee’s financial matters – '\n",
      " \"like paying bills and collecting a person's income – if the judge decides \"\n",
      " 'the conservatee can’t do it.\\n'\n",
      " 'If I become conservator of the person, will I automatically become '\n",
      " 'conservator of the estate?\\n'\n",
      " 'No.\\n'\n",
      " 'If you want to become conservator of the estate, you must petition for '\n",
      " 'that.\\n'\n",
      " 'You can do it at the same time as you file your petition for conservatorship '\n",
      " 'of the person or you can file a separate petition later.\\n'\n",
      " 'Is a probate conservatorship different from a mental health (LPS) '\n",
      " 'conservatorship?\\n'\n",
      " 'Yes.\\n'\n",
      " 'An LPS conservatorship is only for people who are seriously mentally ill and '\n",
      " 'need special care (usually placement in a locked facility and/or very '\n",
      " 'powerful drugs to control behavior).\\n'\n",
      " 'But, if a person suffers from dementia and needs special drugs to control '\n",
      " 'the dementia, they may need a probate conservatorship, not an LPS '\n",
      " 'conservatorship.\\n'\n",
      " 'Read more about LPS Conservatorships.\\n'\n",
      " 'Is a probate conservatorship different from a limited conservatorship?\\n'\n",
      " 'Yes.\\n'\n",
      " 'A limited conservatorship is a type of probate conservatorship for people '\n",
      " 'who are developmentally disabled.\\n'\n",
      " 'Developmentally disabled people can usually do many things a conservatee '\n",
      " 'cannot do.\\n'\n",
      " 'So, the Court limits their conservators’ powers.\\n'\n",
      " 'Read more about limited conservatorships.\\n'\n",
      " 'Who can file for conservatorship?\\n'\n",
      " 'The person who wants to be a conservator can file.\\n'\n",
      " 'Others can file too, like a spouse, a relative, a state or local government '\n",
      " 'agency (like the county Public Guardian ), or any other interested person or '\n",
      " 'friend.\\n'\n",
      " 'Even the person who will be the conservatee can file, but that is extremely '\n",
      " 'unusual.\\n'\n",
      " 'Before you file, find out if someone else is already planning to file a '\n",
      " 'petition.\\n'\n",
      " 'Who can be appointed as conservator?\\n'\n",
      " 'The law has a system for choosing the conservator.\\n'\n",
      " 'It gives preference to the person at the top of the list, then moves down:\\n'\n",
      " 'Spouse\\n'\n",
      " 'Adult child\\n'\n",
      " 'Parent\\n'\n",
      " 'Sibling\\n'\n",
      " 'Any other person the law says is okay.\\n'\n",
      " 'Public Guardian\\n'\n",
      " 'If the person closest to the top of the list does not want to be '\n",
      " 'conservator, s/he can nominate someone else.\\n'\n",
      " 'What if no one is qualified to be conservator?\\n'\n",
      " 'Call the Court Investigation Unit of the Probate Department: 408-882-2761.\\n'\n",
      " 'Ask if you can appoint a private professional fiduciary as conservator.\\n'\n",
      " 'Private professional fiduciaries charge fees.\\n'\n",
      " 'If the person who needs help can’t pay the fees and there is no suitable '\n",
      " 'family friend or relative to serve, contact the Office of Public Guardian.\\n'\n",
      " 'There may be fees charged, but they are based on a person’s ability to pay.\\n'\n",
      " 'They have experienced personal conservators and property administrators who '\n",
      " 'can serve as conservator.\\n'\n",
      " 'If you are not eligible to use the Public Guardian’s services, contact the '\n",
      " \"County Department of Aging and Adult Services on the County's Social \"\n",
      " 'Services Agency website.\\n'\n",
      " 'When should the Public Guardian be conservator?\\n'\n",
      " 'The Court can sometimes appoint the Public Guardian as conservator.\\n'\n",
      " 'This usually happens when someone makes a referral.\\n'\n",
      " 'Referrals can be made by:\\n'\n",
      " 'Adult Protective Services (APS),A relative,A neighbor,A doctor,A police '\n",
      " 'officer,The Court, or\\n'\n",
      " 'Another interested person.\\n'\n",
      " 'For more information, or to make a referral, call the Public Guardian at: '\n",
      " '(408) 755-7610.\\n'\n",
      " 'If you think there is financial abuse, call the APS hotline: '\n",
      " '1-800-414-2002.\\n'\n",
      " 'The State takes financial abuse cases seriously and may file criminal '\n",
      " 'charges or a civil suit.\\n'\n",
      " '(See Elder Abuse .\\n'\n",
      " ')Can I make medical decisions for the conservatee?\\n'\n",
      " 'It depends.\\n'\n",
      " 'If you are a conservator of the estate only, no.\\n'\n",
      " 'If you are a conservator of the person, you can supervise the conservatee’s '\n",
      " 'routine medical care unless s/he does not want you to.\\n'\n",
      " 'If there is a medical emergency, you can supervise the conservatee’s care '\n",
      " 'even if s/he objects.\\n'\n",
      " 'If the conservatee does not want medical treatment s/he needs, you can ask '\n",
      " 'the Court for the power to give informed consent for the conservatee.\\n'\n",
      " 'This lets you authorize treatment even if the conservatee refuses.\\n'\n",
      " 'If the conservatee is clearly unable to give informed consent, because of a '\n",
      " 'stroke, dementia or some other problem that makes communication with the '\n",
      " 'doctor impossible, the doctor will probably fill out a declaration for you '\n",
      " 'to submit to Court.\\n'\n",
      " 'If the Court approves your request, you will be able to make most medical '\n",
      " 'decisions without the Court’s permission.\\n'\n",
      " 'But, if the conservatee has dementia and needs to be in a secure long-term '\n",
      " 'care or residential care facility, or needs special drugs to treat the '\n",
      " 'dementia, you must ask the Court for permission to have the conservatee '\n",
      " 'confined, or to administer these drugs.\\n'\n",
      " 'To ask the Court for these special medical powers, a physician or licensed '\n",
      " 'psychologist must fill out the Capacity Declaration—Conservatorship form '\n",
      " 'GC-335, which you must then file with the Court.\\n'\n",
      " 'This is a state Judicial Council form.\\n'\n",
      " 'If the conservatee’s needs change, you can always file a new petition to ask '\n",
      " 'for the powers you need.\\n'\n",
      " 'Can I make Estate Planning decisions for the conservatee?\\n'\n",
      " \"If you are the conservator of the estate, you control the conservatee's \"\n",
      " 'finances.\\n'\n",
      " 'But, the conservatee still has the power to make a Will.\\n'\n",
      " 'The Court will let you make a Will if:the conservatee is too sick to make a '\n",
      " 'Will or estate plans, orthe conservatorship was established because someone '\n",
      " 'was taking advantage of the conservatee or exerting undue influence on '\n",
      " 'him/her.\\n'\n",
      " 'Section 2580 of the Probate Code says the Court can have the conservator use '\n",
      " '“Substituted Judgment” to make a Will, a trust, or both, to make sure the '\n",
      " 'conservatee has an estate plan.\\n'\n",
      " 'The Court may also let you use this power to change or revoke a trust, make '\n",
      " 'gifts, change insurance policies or annuities, and sign contracts for the '\n",
      " 'conservatee.\\n'\n",
      " 'You or any other interested person, like a family member, can present a '\n",
      " 'petition asking for Substituted Judgment.\\n'\n",
      " 'You must send a copy of your petition and the notice of hearing to the same '\n",
      " 'people you gave notice to for the conservatorship hearing.\\n'\n",
      " 'You must also give notice of the hearing to all beneficiaries in the '\n",
      " \"conservatee's current estate plan, and anyone who would inherit from the \"\n",
      " 'conservatee under the laws of intestate succession.\\n'\n",
      " 'Read Probate Code Sections 2582 and 2583 to learn how to fill out the '\n",
      " 'petition.\\n'\n",
      " 'Remember, it is important to show that if the conservatee could act for him/ '\n",
      " 'herself and could act as a reasonable person, s/he would want to do what the '\n",
      " 'petition is asking for.\\n'\n",
      " 'If your petition asks for big changes, you must explain to the Court why '\n",
      " 'these changes are needed.\\n'\n",
      " 'You must also file the existing trust and/or Will and a draft trust and/or '\n",
      " 'Will.\\n'\n",
      " 'We recommend you have a lawyer prepare these documents.\\n'\n",
      " 'You can find a probate lawyer from the membership list of the Silicon Valley '\n",
      " 'Bar Association’s website.\\n'\n",
      " 'You can also get a referral to a lawyer from the Santa Clara County Bar '\n",
      " 'Association.\\n'\n",
      " 'Their phone number is 408-971-6822.\\n'\n",
      " 'You cannot petition the Court for Substituted Judgment at the same time as '\n",
      " 'your conservatorship hearing.\\n'\n",
      " 'But, if the proposed conservatee may be dying, and you need to take action '\n",
      " 'quickly, you can ask the Court to consider your petition even before it '\n",
      " 'appoints a permanent conservator.\\n'\n",
      " 'What does the court investigator do in conservatorship cases?\\n'\n",
      " 'The court investigator gives neutral information about your case to the '\n",
      " 'judge.\\n'\n",
      " 'The investigator will call you and set up a visit with you and the proposed '\n",
      " 'conservatee.\\n'\n",
      " 'Sometimes, s/he will meet with you and the proposed conservatee more than '\n",
      " 'once.\\n'\n",
      " 'The Court wants the investigator to:\\n'\n",
      " 'Have a private interview with the proposed conservatee.\\n'\n",
      " 'Explain how the conservatorship will change his/her life.\\n'\n",
      " 'Explain what will happen at the hearing.\\n'\n",
      " 'Explain about the proposed conservatee’s right to fight the conservatorship, '\n",
      " 'to have a lawyer, to have a different conservator and to have a trial by '\n",
      " 'jury if s/he wants it.\\n'\n",
      " 'If the proposed conservatee does not have the ability to understand or to '\n",
      " 'give an opinion, the investigator will decide if a lawyer should be '\n",
      " 'appointed to represent him/her\\n'\n",
      " 'Review the petitioner’s Confidential Supplemental Information form and get '\n",
      " 'more information if needed\\n'\n",
      " 'Find out if the proposed conservatee is willing and able to come to the '\n",
      " 'hearing.\\n'\n",
      " 'The investigator is allowed to look at the proposed conservatee’s '\n",
      " 'confidential medical records.\\n'\n",
      " 'See if the proposed conservatee is able to fill out an affidavit of voter '\n",
      " 'registration.\\n'\n",
      " 'Write a confidential report for the Court and send a copy to the conservator '\n",
      " 'and the conservator’s lawyer.\\n'\n",
      " 'Make recommendations to the judge about your case.\\n'\n",
      " 'For more information on the investigator’s duties, see Probate Code 1826.\\n'\n",
      " 'Does the court investigator stay in touch with the conservatee?\\n'\n",
      " 'Yes.\\n'\n",
      " 'In a year, the investigator will review your case again to make sure you are '\n",
      " 'fulfilling your responsibilities as conservator and that the conservatee’s '\n",
      " 'rights are being upheld.\\n'\n",
      " 'After the first year visit, the investigator will visit the conservatee '\n",
      " 'every 2 years, or as often as the investigator feels necessary.\\n'\n",
      " 'If the investigator thinks there may be a problem, s/he will write a report '\n",
      " 'and ask the judge to appoint a lawyer for the conservatee.\\n'\n",
      " 'This starts the legal process to remove you as conservator.\\n'\n",
      " 'The investigator will also visit the conservatee and make a report if:\\n'\n",
      " 'The temporary conservator wants to move the proposed conservatee out of '\n",
      " 'his/her residence.\\n'\n",
      " 'The conservator petitions for exclusive authority to make medical decisions '\n",
      " 'for the conservatee, especially if s/he is asking for special powers to take '\n",
      " 'care of the needs of a demented conservatee.\\n'\n",
      " 'The conservator wants to sell the conservatee’s home (or former home).\\n'\n",
      " 'The court investigator will explain the implications of these situations to '\n",
      " 'the conservatee.\\n'\n",
      " 'S/he will then write a report to the Court with his/her recommendations.\\n'\n",
      " 'When can I establish a probate conservatorship?\\n'\n",
      " 'You must be sure that establishing a conservatorship is the only way to meet '\n",
      " 'the person’s needs.\\n'\n",
      " 'If there is another way, the Court will not grant your petition.\\n'\n",
      " 'You may not need a conservatorship if the person who needs help:\\n'\n",
      " 'Can cooperate with a plan to meet his/her basic needs.\\n'\n",
      " 'Has the capacity and willingness to sign a power of attorney naming someone '\n",
      " 'to help with his/her finances or healthcare decisions.\\n'\n",
      " '(Read more about Health Care Decisions.\\n'\n",
      " ')Has only social security or welfare income every month and the Social '\n",
      " 'Security Administration can appoint you Representative Payee.\\n'\n",
      " 'The Representative Payee is the person the beneficiary allows to receive '\n",
      " 'Social Security checks in their name on behalf of the beneficiary.\\n'\n",
      " 'Is married and the spouse can handle financial transactions.\\n'\n",
      " 'The property must be community property or in joint accounts.\\n'\n",
      " 'How do I establish a conservatorship?\\n'\n",
      " 'Step 1Fill out your forms.\\n'\n",
      " 'You can download the forms by clicking on the form number below.\\n'\n",
      " 'Or, get them from a stationery store, bookstore, or the Self-Help Center.\\n'\n",
      " 'The state forms are also on the Judicial Council website: '\n",
      " 'www.courts.ca.gov/.\\n'\n",
      " 'Tip: Choose \"Probate-Guardianships and Conservatorships\" from the drop-down '\n",
      " 'menu.\\n'\n",
      " 'Fill out the state forms listed below:\\n'\n",
      " 'GC-310 Petition for Appointment of Probate Conservator\\n'\n",
      " 'GC-020 Notice of Hearing\\n'\n",
      " 'GC-312 Confidential Supplemental Information\\n'\n",
      " 'GC-320 Citation for Conservatorship\\n'\n",
      " 'GC-348 Duties of Conservator\\n'\n",
      " 'GC-314 Confidential Conservator Screening\\n'\n",
      " 'GC-340 Order Appointing Conservator\\n'\n",
      " 'GC-350 Letters of Conservatorship\\n'\n",
      " 'There are 2 local forms you must fill out:\\n'\n",
      " 'PB-4002 Referral for Court Investigator & Questionnaire – Conservatorship\\n'\n",
      " 'PB-4003-1 Document Cover Sheet\\n'\n",
      " 'Additional forms you need to fill out:\\n'\n",
      " 'If you are asking for a conservatorship of the person only (not the estate) '\n",
      " 'you must have a physician or licensed psychologist fill out a Capacity '\n",
      " 'Declaration - Conservatorship GC-335 form.\\n'\n",
      " 'If you are asking for a conservatorship of the estate only (not the person), '\n",
      " 'you must either:\\n'\n",
      " 'Have a physician or licensed psychologist fill out a Capacity Declaration - '\n",
      " 'Conservatorship GC-335 form and the local form PB 4015 Professional '\n",
      " \"Declarant's Attachment to Form GC-335, ORFill out local form PB 4016 Lay\\n\"\n",
      " \"Person's Declaration Re: Legal Capacity yourself.\\n\"\n",
      " 'Important: Be sure to read the instruction sheet \"Instructions to Counsel '\n",
      " 'and Declarants for Completing GC-335, GC-335A, and Conservatorship of Estate '\n",
      " 'Attachments G (1) and G (2)\" (included with both PB 4015 and PB 4016).\\n'\n",
      " 'If you are asking for conservatorship of the person AND the estate, you must '\n",
      " 'have a physician or licensed psychologist fill out a Capacity Declaration - '\n",
      " 'Conservatorship GC-335 form and the local form PB 4015 Professional '\n",
      " \"Declarant's Attachment to Form GC-335.\\n\"\n",
      " 'Be sure to read the instruction sheet included with the form.\\n'\n",
      " '(See Probate Local Rule 11)If you or the proposed conservatee cannot afford '\n",
      " 'to pay the court fees, fill out these forms, too:\\n'\n",
      " 'FW-001 - There are helpful video instructions for this form.\\n'\n",
      " 'See A/V instructions for FW-001.\\n'\n",
      " 'Request to Waive Court Fees FW-003 Order on Court Fee Waiver (Superior '\n",
      " 'Court)If there is an urgent need to establish a conservatorship, fill out '\n",
      " 'these temporary conservatorship forms:\\n'\n",
      " 'GC-110 Petition for Appointment of Temporary Conservator\\n'\n",
      " 'GC-140 Order Appointing Temporary Conservator\\n'\n",
      " 'GC-150 Letters of Temporary Conservatorship\\n'\n",
      " 'There are special rules for temporary conservators.\\n'\n",
      " 'See Probate Code Section 2253.\\n'\n",
      " 'Read Probate Local Rule 11 so you can fill out your forms correctly.\\n'\n",
      " 'Otherwise, you will have to correct them and file again.\\n'\n",
      " 'Step 2Gather the information you will need to fill out your forms.\\n'\n",
      " 'You will need the proposed conservatee’s:full name;address;date of '\n",
      " 'birth;social security number;doctor’s name, address, phone and fax numbers; '\n",
      " 'andmedical record number.\\n'\n",
      " \"If you are asking for a conservatorship of the person,Describe the person's \"\n",
      " 'mental or physical health.\\n'\n",
      " 'Say why you feel there is a need for a conservatorship.\\n'\n",
      " 'If you are asking for a conservatorship of the estate,Describe how the '\n",
      " 'person cannot manage his/her finances or is easily influenced.\\n'\n",
      " 'Give examples of things that have happened and name other people who know '\n",
      " 'about these problems.\\n'\n",
      " 'List the person’s assets in as much detail as you can (bank accounts, '\n",
      " 'brokerage accounts, stocks, Savings Bonds, cars, boats, real property, '\n",
      " 'etc).\\n'\n",
      " 'The Court wants to know about how much the assets are worth and how much '\n",
      " 'income the proposed conservatee gets each month.\\n'\n",
      " 'You do not have to do this if you are married to the proposed conservatee '\n",
      " 'and your assets are community property.\\n'\n",
      " 'Probate Code Section 3051Step 3File your forms\\n'\n",
      " 'Make 2 copies of all your forms, including the Proof of Service, and take '\n",
      " 'them to the Probate Clerk’s Office at: Probate Clerk’s Office, Room 104, '\n",
      " 'Downtown Superior Court  (DTS) Visit the DTS page for the courthouse '\n",
      " 'address, phone and business hours.\\n'\n",
      " 'Closed court holidays.\\n'\n",
      " 'The clerk will ask you to pay a filing fee.\\n'\n",
      " '(See the local fee schedule and look for probate filing fees.)\\n'\n",
      " 'S/he will stamp your originals and both sets of copies.\\n'\n",
      " 'The clerk will send one set of the copies to the Court Investigation Unit.\\n'\n",
      " 'They will investigate your case and make a recommendation to the Court '\n",
      " 'before your hearing.\\n'\n",
      " 'The other set of copies is for your records.\\n'\n",
      " 'Step 4Serve your forms\\n'\n",
      " 'You must “give notice by mail” to certain people '\n",
      " 'including:grandparents,parents,brothers and sisters,children,grandchildren, '\n",
      " 'andspouse.\\n'\n",
      " 'This means someone over 18 – not you – must serve (give) copies of the court '\n",
      " 'forms to those people at least 15 days before the hearing.\\n'\n",
      " 'That way, they will know you are asking to be the conservator.\\n'\n",
      " 'You must do this even if you think those people don’t care or may disagree '\n",
      " 'with you.\\n'\n",
      " 'Someone over 18—not you—must also “give personal notice” to the proposed '\n",
      " 'conservatee.\\n'\n",
      " 'You can have a friend or family member do this, or you can hire a '\n",
      " 'professional process server.\\n'\n",
      " 'The server must serve copies of these forms:\\n'\n",
      " 'Notice of Hearing\\n'\n",
      " 'Petition for Appointment of Conservator\\n'\n",
      " 'If you want to, you can also include a copy of the:\\n'\n",
      " 'Capacity Declaration\\n'\n",
      " 'There are rules for giving notice.\\n'\n",
      " 'You must follow them carefully or you may have to go back to Court.\\n'\n",
      " 'The person who serves the forms by mail must fill out and sign page 2 of '\n",
      " 'GC-020, then give it back to you.\\n'\n",
      " 'This is your Proof of Service.\\n'\n",
      " 'Make copies of both pages of this form and file it with the clerk with your '\n",
      " 'other papers.\\n'\n",
      " 'If you have questions about how to serve your forms, talk to a probate '\n",
      " 'examiner, the probate staff attorney at the court, or contact the court’s '\n",
      " 'Self-Help Center.\\n'\n",
      " 'Step 5Get a hearing date and a case number\\n'\n",
      " 'The clerk can give you a date for the conservatorship hearing about 10 weeks '\n",
      " 'after you file your forms.\\n'\n",
      " '(It takes the Court Investigation Unit at least 10 weeks to investigate your '\n",
      " 'case.\\n'\n",
      " ')To ask for a hearing date, call the clerk at DTS  (408) 882-2100 extension '\n",
      " '2649.\\n'\n",
      " 'The clerk will give you a case number at the same time.\\n'\n",
      " 'If your situation is urgent, fill out the forms to apply for a temporary '\n",
      " 'conservatorship.\\n'\n",
      " '(See Step 1 ).\\n'\n",
      " 'Step 6Complete additional forms\\n'\n",
      " 'If you haven’t done so already, file form GC-340, your proposed Order '\n",
      " 'Appointing Conservator.\\n'\n",
      " 'File it at least four days before your hearing.\\n'\n",
      " 'You can mail it to the clerk or file it at the Probate Clerk’s Office.\\n'\n",
      " 'If you haven’t done so already, fill out form GC-350, Letters of '\n",
      " 'Conservatorship.\\n'\n",
      " 'You can take this form to the hearing.\\n'\n",
      " 'Step 7Go to the hearing\\n'\n",
      " 'The time and date of your hearing are listed on GC-020, #4.\\n'\n",
      " 'You must get to Court by 12:40 because you have to see a video before your '\n",
      " 'hearing.\\n'\n",
      " 'Allow plenty of time to go through the security screening and locate the '\n",
      " 'courtroom where the video will be shown.\\n'\n",
      " 'There will be signs by the elevators.\\n'\n",
      " 'After the video, you will be told to go to another courtroom.\\n'\n",
      " 'Go in and find a seat.\\n'\n",
      " 'Be sure to take the pink slip with you to prove you saw the video.\\n'\n",
      " 'You will need this pink slip when you go to Court to get Letters of '\n",
      " 'Conservatorship.\\n'\n",
      " 'Look at the door outside the courtroom to know when your case will be '\n",
      " 'called.\\n'\n",
      " 'Sit in the courtroom and wait for the clerk to call your case.\\n'\n",
      " 'Watch the other cases so you will know what to do.\\n'\n",
      " 'When the clerk calls your case, step forward with the proposed conservatee '\n",
      " '(if s/he can be there).\\n'\n",
      " 'The judge may ask you some questions.\\n'\n",
      " 'It will only take a few minutes.\\n'\n",
      " 'If the judge approves the conservatorship, the clerk will give you a signed '\n",
      " 'Order.\\n'\n",
      " 'Step 8After the hearing\\n'\n",
      " 'Take the signed Order to the Probate Clerk’s Office downstairs.\\n'\n",
      " 'Also give the clerk:the pink slip [showing you saw the video],the yellow '\n",
      " 'slip [showing you bought the Handbook for Conservators and the Supplemental '\n",
      " 'Resource Folder], andif you need a bond, file the bond with the clerk.\\n'\n",
      " 'The clerk will give you a filed copy of your Letters of Conservatorship.\\n'\n",
      " 'Step 9Your responsibilities as conservator\\n'\n",
      " 'If you are conservator of the person, you must take care of the '\n",
      " 'conservatee’sfood,clothing,shelter, andwell-being.\\n'\n",
      " 'If you are conservator of the estate, you must:manage and protect the '\n",
      " 'conservatee’s assets,make a list of all assets,collect the conservatee’s '\n",
      " 'income, andpay the conservatee’s bills.\\n'\n",
      " 'You have many other responsibilities, too.\\n'\n",
      " 'To learn more, talk to a lawyer.\\n'\n",
      " 'Or, read the Handbook for Conservators that you bought from the clerk.\\n'\n",
      " 'You can download the Santa Clara County Supplement to the Handbook from this '\n",
      " 'website .\\n'\n",
      " 'It has practical information and lists resources in our county.\\n'\n",
      " 'You can also see resources listed online on the Probate Resources page.\\n'\n",
      " 'How can I learn more about conservatorships?\\n'\n",
      " 'Look for books in the legal section of a bookstore.\\n'\n",
      " 'Or, ask a librarian for help.\\n'\n",
      " 'The rules for conservatorships are complicated.\\n'\n",
      " 'And, they are different for each county.\\n'\n",
      " 'Talk to a lawyer before you try to establish a conservatorship.\\n'\n",
      " 'For resources on helping elderly or disabled persons, such as with care in '\n",
      " 'the home, see the Probate Resource page.\\n'\n",
      " '\\n'\n",
      " '</TEXT>')\n"
     ]
    }
   ],
   "source": [
    "\n",
    "\n",
    "pp.pprint(index_reader.doc_raw('D1628366'))"
   ],
   "metadata": {
    "collapsed": false,
    "pycharm": {
     "name": "#%%\n"
    }
   }
  },
  {
   "cell_type": "code",
   "execution_count": 97,
   "outputs": [
    {
     "data": {
      "text/plain": "{'parent': 2,\n 'extens': 1,\n 'refus': 1,\n 'govern': 1,\n 'year': 3,\n 'if:th': 1,\n 'addit': 2,\n 'complet': 1,\n 'your': 36,\n 'without': 1,\n 'describ': 2,\n 'temporari': 7,\n 'bar': 2,\n 'suffer': 1,\n 'would': 2,\n 'permiss': 2,\n 'draft': 1,\n 'record': 3,\n 'sister': 1,\n 'you': 114,\n 'happen': 3,\n 'sometim': 2,\n 'serv': 6,\n 'sure': 6,\n 'instruct': 5,\n 'citat': 1,\n 'ag': 1,\n 'bill': 2,\n 'neutral': 1,\n 'elig': 1,\n 'automat': 2,\n 'especi': 1,\n 'court': 46,\n 'click': 2,\n 'secur': 6,\n 'conserv': 52,\n 'former': 1,\n 'ap': 2,\n '1': 4,\n '2': 5,\n 'befor': 7,\n 'folder': 1,\n '4': 1,\n 'andspous': 1,\n 'carefulli': 1,\n '800': 1,\n 'dementia': 5,\n 'handl': 2,\n 'detail': 1,\n 'placement': 1,\n 'adult': 5,\n 'brother': 1,\n 'much': 3,\n 'object': 1,\n 'treatment': 2,\n 'be': 2,\n 'prove': 1,\n 'least': 3,\n 'yellow': 1,\n 'polici': 1,\n 'how': 10,\n 'see': 12,\n 'same': 4,\n 'civil': 1,\n 'term': 1,\n 'after': 3,\n 'annuiti': 1,\n 'behavior': 1,\n 'close': 1,\n 'address': 3,\n 'must:manag': 1,\n 'set': 4,\n 'learn': 5,\n 'g': 2,\n '2100': 1,\n '2583': 1,\n 'i': 14,\n '2582': 1,\n 'abl': 3,\n 'staff': 1,\n 'right': 2,\n '2580': 1,\n 'neighbor': 1,\n 's': 12,\n 'meet': 3,\n 'confin': 1,\n 'v': 1,\n 'petition': 1,\n 'voter': 1,\n 'under': 1,\n 'interview': 1,\n 'correctli': 1,\n 'beneficiari': 3,\n 'correct': 1,\n 'offic': 6,\n 'paye': 2,\n 'do': 15,\n 'down': 2,\n 'dt': 3,\n 'act': 2,\n 'later': 1,\n 'dy': 1,\n 'contact': 3,\n 'legal': 3,\n 'rel': 3,\n 'pai': 5,\n 'serious': 2,\n 'talk': 3,\n 'tip': 1,\n '6822': 1,\n 'which': 1,\n 'andpai': 1,\n 'practic': 1,\n 'grandchildren': 1,\n 'need': 24,\n 'often': 1,\n 'check': 1,\n 'consent': 2,\n 'list': 9,\n 'els': 2,\n 'take': 11,\n 'transact': 1,\n 'month': 2,\n 'success': 1,\n '9your': 1,\n 'http': 1,\n 'andif': 1,\n 'child': 2,\n 'trust': 4,\n 'some': 2,\n 'origin': 1,\n '2253': 1,\n 'back': 2,\n 'famili': 3,\n 'santa': 2,\n 'fw': 3,\n '971': 1,\n 'petit': 17,\n '2002': 1,\n 'exclus': 1,\n 'gc': 23,\n 'undu': 1,\n 'sit': 1,\n 'over': 3,\n 'clara': 2,\n 'otherwis': 1,\n 'administ': 1,\n 'go': 5,\n 'stroke': 1,\n 'hotlin': 1,\n 'room': 1,\n 'home': 3,\n 'special': 6,\n 'juri': 1,\n 'form': 38,\n 'inherit': 1,\n 'judici': 2,\n 'conservatorship_overview.shtml': 1,\n 'ha': 7,\n 'grant': 1,\n 'he': 12,\n 'waiver': 1,\n 'explain': 5,\n 'gift': 1,\n 'big': 1,\n 'hi': 7,\n 'told': 1,\n 'properti': 5,\n 'easili': 1,\n 'sick': 1,\n 'influenc': 2,\n 'number': 7,\n 'veri': 2,\n 'sibl': 1,\n 'four': 1,\n '755': 1,\n 'orfil': 1,\n 'action': 1,\n 'lock': 1,\n 'text': 2,\n 'decis': 8,\n 'write': 3,\n 'propos': 17,\n 'order': 6,\n 'proceed': 1,\n 'made': 1,\n '7610': 1,\n 'conservatee’s:ful': None,\n 'understand': 1,\n 'abil': 2,\n 'birth': 1,\n 'decid': 3,\n 'manag': 1,\n '882': 2,\n 'afford': 1,\n 'system': 1,\n 'even': 5,\n 'www.scscourt.org': 1,\n 'supplement': 4,\n 'dement': 1,\n 'gave': 1,\n '335a': 1,\n 'doe': 8,\n '408': 4,\n 'waiv': 1,\n 'anyon': 1,\n 'server': 2,\n 'other': 10,\n 'pink': 3,\n 'wait': 1,\n 'downstair': 1,\n 'save': 1,\n 'stamp': 1,\n 'matter': 1,\n 'local': 8,\n 'file': 23,\n 'mai': 10,\n 'top': 2,\n 'too': 4,\n 'locat': 1,\n '414': 1,\n '4serv': 1,\n 'have': 20,\n 'member': 2,\n 'spous': 3,\n 'guardian': 8,\n 'urgent': 2,\n 'holidai': 1,\n 'crimin': 1,\n 'question': 2,\n '4002': 1,\n 'bought': 2,\n 'could': 2,\n 'forward': 1,\n '4003': 1,\n 'health': 4,\n 'menu': 1,\n 'boat': 1,\n 'notic': 8,\n 'slip': 4,\n 'report': 4,\n 'exampl': 1,\n 'probabl': 1,\n 'lp': 5,\n 'mail': 3,\n 'minor': 1,\n 'receiv': 1,\n 'sign': 6,\n 'feel': 2,\n 'screen': 2,\n 'stationeri': 1,\n 'trial': 1,\n '6complet': 1,\n '310': 1,\n 'download': 2,\n '312': 1,\n 'judgment': 3,\n 'etc': 1,\n 'lai': 1,\n '314': 1,\n 'find': 4,\n 'unabl': 1,\n 'than': 1,\n 'limit': 5,\n 'commun': 3,\n 'plenti': 1,\n 'stock': 1,\n 'administr': 2,\n 'all': 3,\n 'new': 1,\n 'law': 3,\n 'read': 8,\n 'below': 2,\n 'author': 2,\n 'touch': 2,\n 'choos': 2,\n 'rememb': 1,\n 'vallei': 1,\n 'real': 1,\n 'fill': 17,\n 'establish': 8,\n 'complic': 1,\n '320': 1,\n '8after': 1,\n 'servic': 6,\n 'unit': 3,\n 'alreadi': 3,\n '4015': 3,\n '4016': 2,\n 'try': 2,\n 'basic': 1,\n 'present': 1,\n 'collect': 2,\n 'disabl': 3,\n 'code': 5,\n 'fiduciari': 2,\n 'websit': 5,\n 'busi': 1,\n 'medic': 9,\n 'mental': 4,\n 'schedul': 1,\n 'respons': 5,\n 'hour': 1,\n '335': 7,\n 'elderli': 1,\n 'ani': 3,\n 'fulfil': 1,\n 'make': 22,\n 'fight': 1,\n 'hear': 19,\n 'on': 3,\n 'affidavit': 1,\n 'financ': 4,\n 'andwel': 1,\n 'social': 5,\n 'bookstor': 2,\n 'control': 3,\n 'conservate': 56,\n 'qualifi': 2,\n '340': 2,\n 'clerk': 17,\n 'confidenti': 5,\n 'doctor': 4,\n 'pb': 7,\n 'extrem': 1,\n '104': 1,\n '348': 1,\n 'disagre': 1,\n 'estat': 17,\n 'closest': 1,\n 'reason': 1,\n 'inform': 10,\n 'depend': 1,\n 'about': 13,\n 'conservatorship': 65,\n 'behalf': 1,\n '350': 2,\n '110': 1,\n 'cover': 1,\n 'bank': 1,\n 'exert': 1,\n 'necessari': 1,\n 'friend': 3,\n 'let': 3,\n 'state': 5,\n 'onlin': 1,\n '10': 2,\n '11': 2,\n '12': 1,\n 'www.courts.ca.gov': 1,\n '15': 1,\n 'attornei': 2,\n '18': 3,\n 'want': 12,\n 'them': 4,\n 'welfar': 1,\n 'each': 2,\n 'seat': 1,\n '001': 2,\n '003': 1,\n 're': 1,\n 'includ': 4,\n 'guardianship': 2,\n 'letter': 5,\n 'marri': 2,\n 'declar': 10,\n 'must': 24,\n 'minut': 1,\n 'shelter': 1,\n 'intest': 1,\n 'document': 2,\n 'don’t': None,\n 'healthcar': 1,\n 'recommend': 4,\n 'experienc': 1,\n 'two': 1,\n 'long': 1,\n 'worth': 1,\n 'abus': 3,\n 'current': 1,\n 'upheld': 1,\n 'unless': 1,\n 'where': 2,\n 'attach': 3,\n 'implic': 1,\n 'anoth': 4,\n 'so': 5,\n 'advantag': 1,\n 'psychologist': 4,\n 'resourc': 6,\n 'think': 3,\n '3051step': 1,\n 'onc': 1,\n 'librarian': 1,\n 'store': 1,\n '140': 1,\n '020': 3,\n 'call': 11,\n 'emerg': 1,\n 'charg': 3,\n 'watch': 1,\n 'remov': 1,\n 'appoint': 16,\n 'ask': 21,\n 'counti': 7,\n 'polic': 1,\n '40': 1,\n 'mani': 2,\n 'thing': 2,\n 'stai': 2,\n 'through': 1,\n 'treat': 1,\n 'joint': 1,\n 'supervis': 2,\n 'willing': 1,\n 'prepar': 1,\n '150': 1,\n 'either': 1,\n 'yourself': 1,\n 'up': 1,\n 'courthous': 1,\n 'those': 2,\n 'us': 3,\n 'imposs': 1,\n 'usual': 3,\n 'examin': 1,\n 'look': 4,\n 'repres': 3,\n 'substitut': 3,\n 'nomin': 1,\n 'privat': 3,\n 'name': 5,\n 'investig': 22,\n 'know': 5,\n 'page': 5,\n '1826': 1,\n 'physic': 1,\n 'allow': 3,\n 'drop': 1,\n 'hire': 1,\n 'import': 2,\n 'submit': 1,\n 'becaus': 3,\n 'book': 1,\n 'show': 3,\n 'rule': 5,\n 'questionnair': 1,\n 'video': 6,\n 'everi': 2,\n 'life': 1,\n 'we': 1,\n 'peopl': 8,\n '3file': 1,\n 'outsid': 1,\n 'capac': 7,\n 'appli': 1,\n 'interest': 3,\n 'wai': 3,\n 'associ': 2,\n 'licens': 4,\n 'again': 2,\n 'center': 2,\n 'start': 1,\n 'duti': 2,\n '2gather': 1,\n 'bond': 3,\n 'can’t': None,\n 'insur': 1,\n 'superior': 2,\n 'silicon': 1,\n 'what': 9,\n 'chang': 6,\n 'financi': 4,\n 'step': 10,\n 'unusu': 1,\n 'time': 5,\n 'base': 1,\n 'registr': 1,\n 'type': 1,\n 'ye': 3,\n 'when': 9,\n 'problem': 3,\n 'her': 9,\n 'children': 1,\n 'review': 2,\n 'quickli': 1,\n '5get': 1,\n 'routin': 1,\n 'proof': 2,\n 'fax': 1,\n 'plan': 7,\n 'case': 14,\n 'profession': 5,\n 'give': 17,\n 'counsel': 1,\n 'still': 1,\n 'contract': 1,\n 'come': 1,\n 'downtown': 1,\n 'suitabl': 1,\n 'exist': 1,\n 'okai': 1,\n 'consid': 1,\n 'phone': 3,\n 'suit': 1,\n 'care': 13,\n 'judg': 8,\n 'copi': 11,\n 'our': 1,\n 'out': 22,\n 'andmed': 1,\n 'get': 6,\n 'physician': 4,\n 'power': 9,\n 'protect': 3,\n 'alwai': 1,\n '7go': 1,\n 'someon': 7,\n 'more': 11,\n 'sell': 1,\n 'opinion': 1,\n 'help': 9,\n 'agenc': 2,\n 'cannot': 5,\n 'self': 2,\n 'self_help': 1,\n 'asset': 5,\n 'certain': 1,\n 'first': 1,\n 'date': 5,\n 'door': 1,\n 'residenti': 1,\n 'prefer': 1,\n 'fee': 9,\n 'tell': 1,\n 'brokerag': 1,\n 'section': 7,\n 'separ': 1,\n 'dai': 2,\n 'him': 4,\n 'drug': 4,\n 'shown': 1,\n 'courtroom': 4,\n 'conservatee’sfood': None,\n 'should': 3,\n 'few': 1,\n 'from': 12,\n 'clearli': 1,\n 'depart': 2,\n 'development': 2,\n 'orth': 1,\n 'like': 4,\n 'kind': 1,\n 'ill': 1,\n 'onli': 8,\n 'done': 2,\n 'both': 4,\n 'most': 1,\n 'referr': 5,\n 'council': 2,\n 'person': 38,\n 'elev': 1,\n 'topic': 1,\n 'herself': 2,\n 'send': 3,\n 'clerk:th': 1,\n 'cloth': 1,\n 'who': 15,\n 'haven’t': None,\n 'request': 2,\n 'handbook': 3,\n 'week': 2,\n 'incom': 4,\n 'revok': 1,\n 'why': 2,\n 'becom': 5,\n 'elder': 1,\n 'membership': 1,\n 'resid': 1,\n 'can': 47,\n 'probat': 34,\n 'paper': 1,\n 'public': 8,\n 'car': 1,\n '1fill': 1,\n '2761': 1,\n 'sai': 3,\n 'sheet': 3,\n '2649': 1,\n 'lawyer': 9,\n 'including:grandpar': 1,\n 'facil': 2,\n 'move': 2,\n 'process': 2,\n 'will': 1,\n 'saw': 2,\n 'also': 10,\n 'follow': 1,\n 'differ': 6,\n 'situat': 2,\n 'mean': 1,\n 'cooper': 1,\n 'visit': 5,\n 'approv': 2,\n 'account': 3,\n 'perman': 1}"
     },
     "execution_count": 97,
     "metadata": {},
     "output_type": "execute_result"
    }
   ],
   "source": [
    "index_reader.get_document_vector('D1628366')\n",
    "\n"
   ],
   "metadata": {
    "collapsed": false,
    "pycharm": {
     "name": "#%%\n"
    }
   }
  },
  {
   "cell_type": "code",
   "execution_count": null,
   "outputs": [],
   "source": [],
   "metadata": {
    "collapsed": false,
    "pycharm": {
     "name": "#%%\n"
    }
   }
  }
 ],
 "metadata": {
  "kernelspec": {
   "display_name": "Python 3",
   "language": "python",
   "name": "python3"
  },
  "language_info": {
   "codemirror_mode": {
    "name": "ipython",
    "version": 2
   },
   "file_extension": ".py",
   "mimetype": "text/x-python",
   "name": "python",
   "nbconvert_exporter": "python",
   "pygments_lexer": "ipython2",
   "version": "2.7.6"
  }
 },
 "nbformat": 4,
 "nbformat_minor": 0
}