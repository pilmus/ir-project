{
 "cells": [
  {
   "cell_type": "code",
   "execution_count": 87,
   "metadata": {
    "collapsed": true
   },
   "outputs": [],
   "source": [
    "import csv\n",
    "import pprint\n",
    "\n",
    "import pandas as pd\n",
    "from pyserini.index import IndexReader"
   ]
  },
  {
   "cell_type": "code",
   "execution_count": 88,
   "outputs": [],
   "source": [
    "index_reader_base = IndexReader(\"../../anserini/indexes/msmarco-doc/lucene-index-msmarco\")\n",
    "index_reader_expanded = IndexReader(\"../../anserini/indexes/lucene-index-msmarco-doc-expanded-with-vectors\")\n",
    "\n"
   ],
   "metadata": {
    "collapsed": false,
    "pycharm": {
     "name": "#%%\n"
    }
   }
  },
  {
   "cell_type": "code",
   "execution_count": 89,
   "outputs": [],
   "source": [
    "rundict_exp = {}\n",
    "with open('../runs/run.msmarco-doc.test.bm25k1.4.68.b.0.87.expandex.txt') as runfile:\n",
    "    reader = csv.reader(runfile, delimiter=' ')\n",
    "\n",
    "    count = 0\n",
    "    for [qid, _, docid, _, _, _] in reader:\n",
    "        if qid not in rundict_exp:\n",
    "            rundict_exp[qid] = []\n",
    "        rundict_exp[qid].append(docid)"
   ],
   "metadata": {
    "collapsed": false,
    "pycharm": {
     "name": "#%%\n"
    }
   }
  },
  {
   "cell_type": "code",
   "execution_count": 90,
   "outputs": [],
   "source": [
    "rundict_base = {}\n",
    "with open('../data/run.msmarco-doc.test.bm25.txt') as runfile:\n",
    "    reader = csv.reader(runfile, delimiter=' ')\n",
    "\n",
    "    count = 0\n",
    "    for [qid, _, docid, _, _, _] in reader:\n",
    "        if qid not in rundict_base:\n",
    "            rundict_base[qid] = []\n",
    "        rundict_base[qid].append(docid)"
   ],
   "metadata": {
    "collapsed": false,
    "pycharm": {
     "name": "#%%\n"
    }
   }
  },
  {
   "cell_type": "code",
   "execution_count": 91,
   "outputs": [],
   "source": [
    "rundict_exp = {k:v[:100] for k,v in rundict_exp.items()}\n",
    "rundict_base = {k:v[:100] for k,v in rundict_base.items()}"
   ],
   "metadata": {
    "collapsed": false,
    "pycharm": {
     "name": "#%%\n"
    }
   }
  },
  {
   "cell_type": "code",
   "execution_count": 92,
   "outputs": [],
   "source": [
    "test_qrels = {}\n",
    "with open('../data/msmarco-doctest-qrels.tsv') as qrels:\n",
    "    reader = csv.reader(qrels, delimiter=' ')\n",
    "\n",
    "    for [qid, _, docid, rel] in reader:\n",
    "        if qid not in test_qrels:\n",
    "            test_qrels[qid] = {}\n",
    "        test_qrels[qid][docid] = rel"
   ],
   "metadata": {
    "collapsed": false,
    "pycharm": {
     "name": "#%%\n"
    }
   }
  },
  {
   "cell_type": "code",
   "execution_count": 93,
   "outputs": [],
   "source": [
    "qdict = {}\n",
    "with open('../data/msmarco-doctest-queries.tsv') as qfile:\n",
    "    reader = csv.reader(qfile, delimiter='\\t')\n",
    "    for [qid, q] in reader:\n",
    "        qdict[qid] = q"
   ],
   "metadata": {
    "collapsed": false,
    "pycharm": {
     "name": "#%%\n"
    }
   }
  },
  {
   "cell_type": "code",
   "execution_count": 94,
   "outputs": [],
   "source": [
    "metric_dict = {}\n",
    "\n",
    "with open('../data/bm25_metrics.txt') as mf:\n",
    "    reader = csv.reader(mf, delimiter='\\t')\n",
    "    for [metric, id, value] in reader:\n",
    "        if id not in metric_dict:\n",
    "            metric_dict[id] = {}\n",
    "        metric_dict[id][metric] = value\n",
    "metric_list = [[k] + list(v.values()) for k, v in metric_dict.items()]\n"
   ],
   "metadata": {
    "collapsed": false,
    "pycharm": {
     "name": "#%%\n"
    }
   }
  },
  {
   "cell_type": "code",
   "execution_count": 95,
   "outputs": [],
   "source": [
    "def df_from_records(records):\n",
    "\n",
    "    df = pd.DataFrame.from_records(records, columns=['qid','map', 'mrr', 'ndcg'])\n",
    "    return df"
   ],
   "metadata": {
    "collapsed": false,
    "pycharm": {
     "name": "#%%\n"
    }
   }
  },
  {
   "cell_type": "code",
   "execution_count": 96,
   "outputs": [],
   "source": [
    "df = df_from_records(metric_list)"
   ],
   "metadata": {
    "collapsed": false,
    "pycharm": {
     "name": "#%%\n"
    }
   }
  },
  {
   "cell_type": "code",
   "execution_count": 97,
   "outputs": [
    {
     "data": {
      "text/plain": "            qid     map     mrr    ndcg\ncount        44      44      44      44\nunique       44      44       7      43\ntop     1133167  0.0372  1.0000  0.0000\nfreq          1       1      30       2",
      "text/html": "<div>\n<style scoped>\n    .dataframe tbody tr th:only-of-type {\n        vertical-align: middle;\n    }\n\n    .dataframe tbody tr th {\n        vertical-align: top;\n    }\n\n    .dataframe thead th {\n        text-align: right;\n    }\n</style>\n<table border=\"1\" class=\"dataframe\">\n  <thead>\n    <tr style=\"text-align: right;\">\n      <th></th>\n      <th>qid</th>\n      <th>map</th>\n      <th>mrr</th>\n      <th>ndcg</th>\n    </tr>\n  </thead>\n  <tbody>\n    <tr>\n      <th>count</th>\n      <td>44</td>\n      <td>44</td>\n      <td>44</td>\n      <td>44</td>\n    </tr>\n    <tr>\n      <th>unique</th>\n      <td>44</td>\n      <td>44</td>\n      <td>7</td>\n      <td>43</td>\n    </tr>\n    <tr>\n      <th>top</th>\n      <td>1133167</td>\n      <td>0.0372</td>\n      <td>1.0000</td>\n      <td>0.0000</td>\n    </tr>\n    <tr>\n      <th>freq</th>\n      <td>1</td>\n      <td>1</td>\n      <td>30</td>\n      <td>2</td>\n    </tr>\n  </tbody>\n</table>\n</div>"
     },
     "execution_count": 97,
     "metadata": {},
     "output_type": "execute_result"
    }
   ],
   "source": [
    "df.describe()\n"
   ],
   "metadata": {
    "collapsed": false,
    "pycharm": {
     "name": "#%%\n"
    }
   }
  },
  {
   "cell_type": "code",
   "execution_count": 98,
   "outputs": [
    {
     "data": {
      "text/plain": "Int64Index([38, 42, 12, 28, 15, 10, 17, 18, 13, 39,  9, 23, 37,  8, 16, 40, 21,\n            29, 36, 25, 26, 19, 11, 34, 22, 20, 43, 27, 24,  5, 35, 32,  3, 14,\n             2,  4, 41,  6, 31,  7, 33,  1, 30,  0],\n           dtype='int64')"
     },
     "execution_count": 98,
     "metadata": {},
     "output_type": "execute_result"
    }
   ],
   "source": [
    "df.sort_values(by=['ndcg'], ascending=False).index\n"
   ],
   "metadata": {
    "collapsed": false,
    "pycharm": {
     "name": "#%%\n"
    }
   }
  },
  {
   "cell_type": "code",
   "execution_count": 99,
   "outputs": [
    {
     "data": {
      "text/plain": "'lps laws definition'"
     },
     "execution_count": 99,
     "metadata": {},
     "output_type": "execute_result"
    }
   ],
   "source": [
    "qid = df.iloc[30]['qid']\n",
    "query = qdict[qid]\n",
    "query"
   ],
   "metadata": {
    "collapsed": false,
    "pycharm": {
     "name": "#%%\n"
    }
   }
  },
  {
   "cell_type": "code",
   "execution_count": 100,
   "outputs": [],
   "source": [
    "doclist_exp = rundict_exp[qid]\n",
    "doclist_base = rundict_base[qid]"
   ],
   "metadata": {
    "collapsed": false,
    "pycharm": {
     "name": "#%%\n"
    }
   }
  },
  {
   "cell_type": "code",
   "execution_count": 101,
   "outputs": [],
   "source": [
    "pp = pprint.PrettyPrinter(indent=4)\n"
   ],
   "metadata": {
    "collapsed": false,
    "pycharm": {
     "name": "#%%\n"
    }
   }
  },
  {
   "cell_type": "code",
   "execution_count": 102,
   "outputs": [
    {
     "name": "stdout",
     "output_type": "stream",
     "text": [
      "OG docs for ``lps laws definition'': 195\n",
      "BM25_exp docs for ``lps laws definition'': 11\n",
      "BM25_base docs for ``lps laws definition'': 9\n"
     ]
    }
   ],
   "source": [
    "# count the number of relevant documents\n",
    "docs_og = []\n",
    "docs_bm25_exp = []\n",
    "docs_bm25_base = []\n",
    "for docid, label in test_qrels[qid].items():\n",
    "    if int(label) != 0:\n",
    "        docs_og.append(docid)\n",
    "        if docid in doclist_exp:\n",
    "            docs_bm25_exp.append(docid)\n",
    "        if docid in doclist_base:\n",
    "            docs_bm25_base.append(docid)\n",
    "\n",
    "print(f\"OG docs for ``{query}'': {len(docs_og)}\")\n",
    "print(f\"BM25_exp docs for ``{query}'': {len(docs_bm25_exp)}\")\n",
    "print(f\"BM25_base docs for ``{query}'': {len(docs_bm25_base)}\")\n"
   ],
   "metadata": {
    "collapsed": false,
    "pycharm": {
     "name": "#%%\n"
    }
   }
  },
  {
   "cell_type": "code",
   "execution_count": 103,
   "outputs": [],
   "source": [
    "missed_docs_exp = [docid for docid in docs_og if not docid in docs_bm25_exp]\n",
    "missed_docs_base = [docid for docid in docs_og if not docid in docs_bm25_base]"
   ],
   "metadata": {
    "collapsed": false,
    "pycharm": {
     "name": "#%%\n"
    }
   }
  },
  {
   "cell_type": "code",
   "execution_count": 104,
   "outputs": [
    {
     "data": {
      "text/plain": "['lp', 'law', 'definit']"
     },
     "execution_count": 104,
     "metadata": {},
     "output_type": "execute_result"
    }
   ],
   "source": [
    "analys = index_reader_base.analyze(qdict[qid])\n",
    "analys"
   ],
   "metadata": {
    "collapsed": false,
    "pycharm": {
     "name": "#%%\n"
    }
   }
  },
  {
   "cell_type": "code",
   "execution_count": 105,
   "outputs": [],
   "source": [
    "# top_missed_exp = []\n",
    "# top_missed_base = []\n",
    "#\n",
    "# for missed_doc in missed_docs_exp:\n",
    "#     termcount = 0\n",
    "#     vec = index_reader_expanded.get_document_vector(missed_doc)\n",
    "#     raw_len = len(index_reader_expanded.doc_raw(missed_doc))\n",
    "#     if test_qrels[qid][missed_doc] != '0':\n",
    "#         top_missed_exp.append(missed_doc)\n",
    "#         for term in analys:\n",
    "#             termcount += vec.get(term,0)\n",
    "#         tot = sum([vv for vv in vec.values() if vv is not None])\n",
    "#         pp.pprint(f\"{missed_doc}: {termcount}/{tot} -> {round(termcount/tot * 100,2)}%, {round(termcount/raw_len * 100,2)}%\")\n",
    "# for missed_doc in missed_docs_base:\n",
    "#     termcount = 0\n",
    "#     vec = index_reader_base.get_document_vector(missed_doc)\n",
    "#     raw_len = len(index_reader_base.doc_raw(missed_doc))\n",
    "#     if test_qrels[qid][missed_doc] != '0':\n",
    "#         top_missed_base.append(missed_doc)\n",
    "#         for term in analys:\n",
    "#             termcount += vec.get(term,0)\n",
    "#         tot = sum([vv for vv in vec.values() if vv is not None])\n",
    "#         pp.pprint(f\"{missed_doc}: {termcount}/{tot} -> {round(termcount/tot * 100,2)}%, {round(termcount/raw_len * 100,2)}%\")\n",
    "\n"
   ],
   "metadata": {
    "collapsed": false,
    "pycharm": {
     "name": "#%%\n"
    }
   }
  },
  {
   "cell_type": "code",
   "execution_count": 106,
   "outputs": [],
   "source": [
    "# for doc in docs_bm25_exp:\n",
    "#     rank = doclist_exp.index(doc) + 1\n",
    "#     pp.pprint(f\"{rank} {doc}\")"
   ],
   "metadata": {
    "collapsed": false,
    "pycharm": {
     "name": "#%%\n"
    }
   }
  },
  {
   "cell_type": "code",
   "execution_count": 107,
   "outputs": [
    {
     "name": "stdout",
     "output_type": "stream",
     "text": [
      "'1 D3431635, label: 0'\n",
      "'1 D3431635, label: 0'\n",
      "\n",
      "'2 D3451687, label: 3'\n",
      "'2 D1925226, label: 0'\n",
      "\n",
      "'3 D1024943, label: 0'\n",
      "'3 D686052, label: 0'\n",
      "\n",
      "'4 D3272237, label: 0'\n",
      "'4 D1024943, label: 0'\n",
      "\n",
      "'5 D3451688, label: 3'\n",
      "'5 D3272237, label: 0'\n",
      "\n",
      "'6 D1994699, label: 0'\n",
      "'6 D1994699, label: 0'\n",
      "\n",
      "'7 D572440, label: 3'\n",
      "'7 D949868, label: 0'\n",
      "\n",
      "'8 D225186, label: 0'\n",
      "'8 D1513011, label: 0'\n",
      "\n",
      "'9 D2524565, label: 0'\n",
      "'9 D69628, label: 0'\n",
      "\n",
      "'10 D1925226, label: 0'\n",
      "'10 D525396, label: 0'\n",
      "\n",
      "'11 D110769, label: 0'\n",
      "'11 D399445, label: 0'\n",
      "\n",
      "'12 D2156484, label: 0'\n",
      "'12 D3205474, label: 1'\n",
      "\n",
      "'13 D686052, label: 0'\n",
      "'13 D2349859, label: 0'\n",
      "\n",
      "'14 D1650877, label: 0'\n",
      "'14 D11414, label: 0'\n",
      "\n",
      "'15 D2476015, label: 0'\n",
      "'15 D1222032, label: 0'\n",
      "\n",
      "'16 D2112804, label: 0'\n",
      "'16 D1124553, label: 0'\n",
      "\n",
      "'17 D2429119, label: 0'\n",
      "'17 D1292180, label: 0'\n",
      "\n",
      "'18 D438814, label: 0'\n",
      "'18 D409290, label: 0'\n",
      "\n",
      "'19 D264750, label: 0'\n",
      "'19 D2580348, label: 0'\n",
      "\n",
      "'20 D1149878, label: 0'\n",
      "'20 D2047828, label: 0'\n",
      "\n"
     ]
    }
   ],
   "source": [
    "top_retrieved_nonrel_docs_exp = []\n",
    "top_retrieved_rel_docs_exp = []\n",
    "top_retrieved_nonrel_docs_base= []\n",
    "top_retrieved_rel_docs_base = []\n",
    "for i in range(20):\n",
    "    docid_exp = doclist_exp[i]\n",
    "    docid_base = doclist_base[i]\n",
    "    rel_exp = test_qrels[qid].get(docid_exp, 0)\n",
    "    rel_base = test_qrels[qid].get(docid_base, 0)\n",
    "    if int(rel_exp) != 0:\n",
    "        top_retrieved_rel_docs_exp.append(docid_exp)\n",
    "    else:\n",
    "        top_retrieved_nonrel_docs_exp.append(docid_exp)\n",
    "    if int(rel_base) != 0:\n",
    "            top_retrieved_rel_docs_base.append(docid_base)\n",
    "    else:\n",
    "            top_retrieved_nonrel_docs_exp.append(docid_base)\n",
    "    pp.pprint(f\"{i+1} {docid_exp}, label: {test_qrels[qid].get(docid_exp,0)}\")\n",
    "    pp.pprint(f\"{i+1} {docid_base}, label: {test_qrels[qid].get(docid_base,0)}\")\n",
    "    print()\n"
   ],
   "metadata": {
    "collapsed": false,
    "pycharm": {
     "name": "#%%\n"
    }
   }
  },
  {
   "cell_type": "code",
   "execution_count": 108,
   "outputs": [],
   "source": [
    "def get_doc_stats(docs, doclist, index_reader):\n",
    "    for iii in docs:\n",
    "        pp.pprint(f\"docid: {iii}\")\n",
    "        if iii in doclist:\n",
    "            pp.pprint(f\"rank: {doclist.index(iii)}\")\n",
    "        termcount = 0\n",
    "        vec = index_reader.get_document_vector(iii)\n",
    "        raw_len = len(index_reader.doc_raw(iii))\n",
    "        for term in analys:\n",
    "            pp.pprint(f\"{term}: {index_reader.get_document_vector(iii).get(term, '')}\")\n",
    "            termcount += vec.get(term,0)\n",
    "        termsum = sum([vv for vv in vec.values() if vv is not None])\n",
    "        pp.pprint(f\"{termcount}/{termsum} -> {round(termcount/termsum * 100,2)}%\")\n",
    "        pp.pprint(f\"{termcount}/{raw_len} -> {round(termcount/raw_len * 100,2)}%\")\n",
    "\n",
    "        pp.pprint(f\"words: {len(index_reader.doc_raw(iii))}\")\n",
    "        pp.pprint(f\"terms: {sum([v for v in index_reader.get_document_vector(iii).values() if v is not None])}\")\n",
    "        pp.pprint(index_reader.doc_raw(iii)[:10])\n",
    "        print(\"\\n\")\n",
    "\n"
   ],
   "metadata": {
    "collapsed": false,
    "pycharm": {
     "name": "#%%\n"
    }
   }
  },
  {
   "cell_type": "code",
   "execution_count": 111,
   "outputs": [
    {
     "name": "stdout",
     "output_type": "stream",
     "text": [
      "'docid: D3451687'\n",
      "'rank: 1'\n",
      "'lp: 14'\n",
      "'law: 2'\n",
      "'definit: 1'\n",
      "'17/122 -> 13.93%'\n",
      "'17/1094 -> 1.55%'\n",
      "'words: 1094'\n",
      "'terms: 122'\n",
      "'{\\n  \"id\" :'\n",
      "\n",
      "\n",
      "'docid: D3451688'\n",
      "'rank: 4'\n",
      "'lp: 19'\n",
      "'law: 12'\n",
      "'definit: 4'\n",
      "'35/1004 -> 3.49%'\n",
      "'35/8719 -> 0.4%'\n",
      "'words: 8719'\n",
      "'terms: 1004'\n",
      "'{\\n  \"id\" :'\n",
      "\n",
      "\n",
      "'docid: D572440'\n",
      "'rank: 6'\n",
      "'lp: 14'\n",
      "'law: 21'\n",
      "'definit: 4'\n",
      "'39/1257 -> 3.1%'\n",
      "'39/11321 -> 0.34%'\n",
      "'words: 11321'\n",
      "'terms: 1257'\n",
      "'{\\n  \"id\" :'\n",
      "\n",
      "\n"
     ]
    }
   ],
   "source": [
    "get_doc_stats(top_retrieved_rel_docs_exp,doclist_exp, index_reader_expanded)"
   ],
   "metadata": {
    "collapsed": false,
    "pycharm": {
     "name": "#%%\n"
    }
   }
  },
  {
   "cell_type": "code",
   "execution_count": 112,
   "outputs": [
    {
     "name": "stdout",
     "output_type": "stream",
     "text": [
      "'docid: D3205474'\n",
      "'rank: 11'\n",
      "'lp: 3'\n",
      "'law: 1'\n",
      "'definit: 2'\n",
      "'6/285 -> 2.11%'\n",
      "'6/3030 -> 0.2%'\n",
      "'words: 3030'\n",
      "'terms: 285'\n",
      "'<TEXT>\\nhtt'\n",
      "\n",
      "\n"
     ]
    }
   ],
   "source": [
    "get_doc_stats(top_retrieved_rel_docs_base,doclist_base, index_reader_base)"
   ],
   "metadata": {
    "collapsed": false,
    "pycharm": {
     "name": "#%%\n"
    }
   }
  },
  {
   "cell_type": "code",
   "execution_count": null,
   "outputs": [],
   "source": [
    "\n",
    "\n",
    "\n",
    "\n",
    "\n"
   ],
   "metadata": {
    "collapsed": false,
    "pycharm": {
     "name": "#%%\n"
    }
   }
  }
 ],
 "metadata": {
  "kernelspec": {
   "display_name": "Python 3",
   "language": "python",
   "name": "python3"
  },
  "language_info": {
   "codemirror_mode": {
    "name": "ipython",
    "version": 2
   },
   "file_extension": ".py",
   "mimetype": "text/x-python",
   "name": "python",
   "nbconvert_exporter": "python",
   "pygments_lexer": "ipython2",
   "version": "2.7.6"
  }
 },
 "nbformat": 4,
 "nbformat_minor": 0
}