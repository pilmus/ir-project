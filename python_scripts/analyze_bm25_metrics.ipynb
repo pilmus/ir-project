{
 "cells": [
  {
   "cell_type": "code",
   "execution_count": 1,
   "metadata": {
    "collapsed": true
   },
   "outputs": [],
   "source": [
    "import csv\n",
    "import pandas as pd"
   ]
  },
  {
   "cell_type": "code",
   "execution_count": 2,
   "outputs": [],
   "source": [
    "metric_dict = {}"
   ],
   "metadata": {
    "collapsed": false,
    "pycharm": {
     "name": "#%%\n"
    }
   }
  },
  {
   "cell_type": "code",
   "execution_count": 3,
   "outputs": [],
   "source": [
    "with open('../data/bm25_metrics.txt') as mf:\n",
    "    reader = csv.reader(mf, delimiter='\\t')\n",
    "    for [metric, id, value] in reader:\n",
    "        if id not in metric_dict:\n",
    "            metric_dict[id] = {}\n",
    "        metric_dict[id][metric] = value"
   ],
   "metadata": {
    "collapsed": false,
    "pycharm": {
     "name": "#%%\n"
    }
   }
  },
  {
   "cell_type": "code",
   "execution_count": 4,
   "outputs": [
    {
     "data": {
      "text/plain": "{'1037798': {'map': '0.0019', 'recip_rank': '0.0154', 'ndcg_cut_10': '0.0000'},\n '104861': {'map': '0.0663', 'recip_rank': '0.3333', 'ndcg_cut_10': '0.0588'},\n '1063750': {'map': '0.0237', 'recip_rank': '1.0000', 'ndcg_cut_10': '0.2401'},\n '1103812': {'map': '0.0324', 'recip_rank': '0.5000', 'ndcg_cut_10': '0.3046'},\n '1106007': {'map': '0.0052', 'recip_rank': '1.0000', 'ndcg_cut_10': '0.2249'},\n '1110199': {'map': '0.1094', 'recip_rank': '1.0000', 'ndcg_cut_10': '0.3621'},\n '1112341': {'map': '0.0372', 'recip_rank': '0.5000', 'ndcg_cut_10': '0.1326'},\n '1113437': {'map': '0.0557', 'recip_rank': '0.3333', 'ndcg_cut_10': '0.0999'},\n '1114646': {'map': '0.1875', 'recip_rank': '1.0000', 'ndcg_cut_10': '0.6946'},\n '1114819': {'map': '0.1008', 'recip_rank': '1.0000', 'ndcg_cut_10': '0.7606'},\n '1115776': {'map': '0.6797', 'recip_rank': '1.0000', 'ndcg_cut_10': '0.8002'},\n '1117099': {'map': '0.0265', 'recip_rank': '1.0000', 'ndcg_cut_10': '0.6122'},\n '1121402': {'map': '0.5441', 'recip_rank': '1.0000', 'ndcg_cut_10': '0.8429'},\n '1124210': {'map': '0.3570', 'recip_rank': '1.0000', 'ndcg_cut_10': '0.7813'},\n '1129237': {'map': '0.0727', 'recip_rank': '1.0000', 'ndcg_cut_10': '0.2936'},\n '1132213': {'map': '0.4513', 'recip_rank': '1.0000', 'ndcg_cut_10': '0.8261'},\n '1133167': {'map': '0.3381', 'recip_rank': '1.0000', 'ndcg_cut_10': '0.6943'},\n '130510': {'map': '0.4548', 'recip_rank': '1.0000', 'ndcg_cut_10': '0.7875'},\n '131843': {'map': '0.4598', 'recip_rank': '1.0000', 'ndcg_cut_10': '0.7870'},\n '146187': {'map': '0.2320', 'recip_rank': '1.0000', 'ndcg_cut_10': '0.6236'},\n '148538': {'map': '0.1688', 'recip_rank': '0.5000', 'ndcg_cut_10': '0.5216'},\n '156493': {'map': '0.4904', 'recip_rank': '1.0000', 'ndcg_cut_10': '0.6644'},\n '182539': {'map': '0.3732', 'recip_rank': '0.5000', 'ndcg_cut_10': '0.5254'},\n '183378': {'map': '0.1167', 'recip_rank': '1.0000', 'ndcg_cut_10': '0.7420'},\n '19335': {'map': '0.2634', 'recip_rank': '1.0000', 'ndcg_cut_10': '0.3698'},\n '207786': {'map': '0.3271', 'recip_rank': '1.0000', 'ndcg_cut_10': '0.6268'},\n '264014': {'map': '0.2911', 'recip_rank': '1.0000', 'ndcg_cut_10': '0.6267'},\n '287683': {'map': '0.3278', 'recip_rank': '0.2500', 'ndcg_cut_10': '0.4970'},\n '359349': {'map': '0.2116', 'recip_rank': '1.0000', 'ndcg_cut_10': '0.8304'},\n '405717': {'map': '0.3499', 'recip_rank': '1.0000', 'ndcg_cut_10': '0.6629'},\n '443396': {'map': '0.0037', 'recip_rank': '0.0833', 'ndcg_cut_10': '0.0000'},\n '451602': {'map': '0.0142', 'recip_rank': '0.5000', 'ndcg_cut_10': '0.1027'},\n '47923': {'map': '0.0625', 'recip_rank': '1.0000', 'ndcg_cut_10': '0.3131'},\n '489204': {'map': '0.0154', 'recip_rank': '0.2500', 'ndcg_cut_10': '0.0947'},\n '490595': {'map': '0.4763', 'recip_rank': '1.0000', 'ndcg_cut_10': '0.5837'},\n '527433': {'map': '0.2133', 'recip_rank': '1.0000', 'ndcg_cut_10': '0.3593'},\n '573724': {'map': '0.2309', 'recip_rank': '1.0000', 'ndcg_cut_10': '0.6305'},\n '833860': {'map': '0.0951', 'recip_rank': '1.0000', 'ndcg_cut_10': '0.7220'},\n '855410': {'map': '1.0000', 'recip_rank': '1.0000', 'ndcg_cut_10': '1.0000'},\n '87181': {'map': '0.1595', 'recip_rank': '0.5000', 'ndcg_cut_10': '0.7642'},\n '87452': {'map': '0.1479', 'recip_rank': '1.0000', 'ndcg_cut_10': '0.6814'},\n '915593': {'map': '0.2340', 'recip_rank': '0.3333', 'ndcg_cut_10': '0.1396'},\n '962179': {'map': '0.6953', 'recip_rank': '1.0000', 'ndcg_cut_10': '0.9306'},\n 'all': {'map': '0.2443', 'recip_rank': '0.8046', 'ndcg_cut_10': '0.5190'}}"
     },
     "execution_count": 4,
     "metadata": {},
     "output_type": "execute_result"
    }
   ],
   "source": [
    "metric_dict"
   ],
   "metadata": {
    "collapsed": false,
    "pycharm": {
     "name": "#%%\n"
    }
   }
  },
  {
   "cell_type": "code",
   "execution_count": 5,
   "outputs": [],
   "source": [
    "metric_list = [[k] + list(v.values()) for k, v in metric_dict.items()]"
   ],
   "metadata": {
    "collapsed": false,
    "pycharm": {
     "name": "#%%\n"
    }
   }
  },
  {
   "cell_type": "code",
   "execution_count": 25,
   "outputs": [],
   "source": [
    "def df_from_records(records):\n",
    "\n",
    "    df = pd.DataFrame.from_records(records, columns=['qid','map', 'mrr', 'ndcg'])\n",
    "    return df\n",
    "\n"
   ],
   "metadata": {
    "collapsed": false,
    "pycharm": {
     "name": "#%%\n"
    }
   }
  },
  {
   "cell_type": "code",
   "execution_count": 26,
   "outputs": [],
   "source": [
    "df = df_from_records(metric_list)"
   ],
   "metadata": {
    "collapsed": false,
    "pycharm": {
     "name": "#%%\n"
    }
   }
  },
  {
   "cell_type": "code",
   "execution_count": 27,
   "outputs": [
    {
     "data": {
      "text/plain": "           qid     map     mrr    ndcg\ncount       44      44      44      44\nunique      44      44       7      43\ntop     183378  0.0727  1.0000  0.0000\nfreq         1       1      30       2",
      "text/html": "<div>\n<style scoped>\n    .dataframe tbody tr th:only-of-type {\n        vertical-align: middle;\n    }\n\n    .dataframe tbody tr th {\n        vertical-align: top;\n    }\n\n    .dataframe thead th {\n        text-align: right;\n    }\n</style>\n<table border=\"1\" class=\"dataframe\">\n  <thead>\n    <tr style=\"text-align: right;\">\n      <th></th>\n      <th>qid</th>\n      <th>map</th>\n      <th>mrr</th>\n      <th>ndcg</th>\n    </tr>\n  </thead>\n  <tbody>\n    <tr>\n      <th>count</th>\n      <td>44</td>\n      <td>44</td>\n      <td>44</td>\n      <td>44</td>\n    </tr>\n    <tr>\n      <th>unique</th>\n      <td>44</td>\n      <td>44</td>\n      <td>7</td>\n      <td>43</td>\n    </tr>\n    <tr>\n      <th>top</th>\n      <td>183378</td>\n      <td>0.0727</td>\n      <td>1.0000</td>\n      <td>0.0000</td>\n    </tr>\n    <tr>\n      <th>freq</th>\n      <td>1</td>\n      <td>1</td>\n      <td>30</td>\n      <td>2</td>\n    </tr>\n  </tbody>\n</table>\n</div>"
     },
     "execution_count": 27,
     "metadata": {},
     "output_type": "execute_result"
    }
   ],
   "source": [
    "df.describe()"
   ],
   "metadata": {
    "collapsed": false,
    "pycharm": {
     "name": "#%%\n"
    }
   }
  },
  {
   "cell_type": "code",
   "execution_count": 28,
   "outputs": [
    {
     "data": {
      "text/plain": "Int64Index([38, 42, 10, 12, 21, 34, 18, 17, 15, 22, 13, 29, 16, 27, 25, 26, 24,\n            43, 41, 19, 36, 35, 28,  8, 20, 39, 40, 23,  5,  9, 37, 14,  1, 32,\n             7,  6,  3, 11,  2, 33, 31,  4, 30,  0],\n           dtype='int64')"
     },
     "execution_count": 28,
     "metadata": {},
     "output_type": "execute_result"
    }
   ],
   "source": [
    "df.sort_values(by=['map'], ascending=False).index"
   ],
   "metadata": {
    "collapsed": false,
    "pycharm": {
     "name": "#%%\n"
    }
   }
  },
  {
   "cell_type": "code",
   "execution_count": 29,
   "outputs": [
    {
     "data": {
      "text/plain": "Int64Index([16, 32, 35, 29, 28, 36, 26, 25, 24, 23, 37, 21, 38, 19, 18, 17, 34,\n            15, 14, 13, 12, 11, 10,  9,  8, 40,  5,  4, 42,  2, 43, 39, 22, 31,\n            20,  6,  3,  1,  7, 41, 33, 27, 30,  0],\n           dtype='int64')"
     },
     "execution_count": 29,
     "metadata": {},
     "output_type": "execute_result"
    }
   ],
   "source": [
    "df.sort_values(by=['mrr'], ascending=False).index"
   ],
   "metadata": {
    "collapsed": false,
    "pycharm": {
     "name": "#%%\n"
    }
   }
  },
  {
   "cell_type": "code",
   "execution_count": 30,
   "outputs": [
    {
     "data": {
      "text/plain": "Int64Index([38, 42, 12, 28, 15, 10, 17, 18, 13, 39,  9, 23, 37,  8, 16, 40, 21,\n            29, 36, 25, 26, 19, 11, 34, 22, 20, 43, 27, 24,  5, 35, 32,  3, 14,\n             2,  4, 41,  6, 31,  7, 33,  1, 30,  0],\n           dtype='int64')"
     },
     "execution_count": 30,
     "metadata": {},
     "output_type": "execute_result"
    }
   ],
   "source": [
    "df.sort_values(by=['ndcg'], ascending=False).index"
   ],
   "metadata": {
    "collapsed": false,
    "pycharm": {
     "name": "#%%\n"
    }
   }
  },
  {
   "cell_type": "code",
   "execution_count": 37,
   "outputs": [
    {
     "data": {
      "text/plain": "qid     359349\nmap     0.2116\nmrr     1.0000\nndcg    0.8304\nName: 28, dtype: object"
     },
     "execution_count": 37,
     "metadata": {},
     "output_type": "execute_result"
    }
   ],
   "source": [
    "df.iloc[28]"
   ],
   "metadata": {
    "collapsed": false,
    "pycharm": {
     "name": "#%%\n"
    }
   }
  },
  {
   "cell_type": "code",
   "execution_count": null,
   "outputs": [],
   "source": [],
   "metadata": {
    "collapsed": false,
    "pycharm": {
     "name": "#%%\n"
    }
   }
  }
 ],
 "metadata": {
  "kernelspec": {
   "display_name": "Python 3",
   "language": "python",
   "name": "python3"
  },
  "language_info": {
   "codemirror_mode": {
    "name": "ipython",
    "version": 2
   },
   "file_extension": ".py",
   "mimetype": "text/x-python",
   "name": "python",
   "nbconvert_exporter": "python",
   "pygments_lexer": "ipython2",
   "version": "2.7.6"
  }
 },
 "nbformat": 4,
 "nbformat_minor": 0
}