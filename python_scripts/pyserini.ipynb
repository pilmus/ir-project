{
 "cells": [
  {
   "cell_type": "code",
   "execution_count": 80,
   "metadata": {
    "collapsed": true
   },
   "outputs": [],
   "source": [
    "import csv\n",
    "import gzip\n",
    "import itertools\n",
    "from collections import Counter\n",
    "\n",
    "from pyserini.index import IndexReader"
   ]
  },
  {
   "cell_type": "code",
   "execution_count": 24,
   "outputs": [],
   "source": [
    "index_reader = IndexReader(\"../anserini/indexes/msmarco-doc/lucene-index-msmarco\")\n",
    "\n"
   ],
   "metadata": {
    "collapsed": false,
    "pycharm": {
     "name": "#%%\n"
    }
   }
  },
  {
   "cell_type": "code",
   "execution_count": 28,
   "outputs": [],
   "source": [
    "# The query string for each topicid is querystring[topicid]\n",
    "querystring = {}\n",
    "with gzip.open(\"data/msmarco-doctrain-queries.tsv.gz\", 'rt', encoding='utf8') as f:\n",
    "    tsvreader = csv.reader(f, delimiter=\"\\t\")\n",
    "    for [topicid, querystring_of_topicid] in tsvreader:\n",
    "        querystring[topicid] = querystring_of_topicid"
   ],
   "metadata": {
    "collapsed": false,
    "pycharm": {
     "name": "#%%\n"
    }
   }
  },
  {
   "cell_type": "code",
   "execution_count": 29,
   "outputs": [],
   "source": [
    "# In the corpus tsv, each docid occurs at offset docoffset[docid]\n",
    "\n",
    "docoffset = {}\n",
    "with gzip.open(\"data/msmarco-docs-lookup.tsv.gz\", 'rt', encoding='utf8') as f:\n",
    "    tsvreader = csv.reader(f, delimiter=\"\\t\")\n",
    "    for [docid, _, offset] in tsvreader:\n",
    "        docoffset[docid] = int(offset)"
   ],
   "metadata": {
    "collapsed": false,
    "pycharm": {
     "name": "#%%\n"
    }
   }
  },
  {
   "cell_type": "code",
   "execution_count": 30,
   "outputs": [],
   "source": [
    "# For each topicid, the list of positive docids is qrel[topicid]\n",
    "qrel = {}\n",
    "with gzip.open(\"data/msmarco-doctrain-qrels.tsv.gz\", 'rt', encoding='utf8') as f:\n",
    "    tsvreader = csv.reader(f, delimiter=\" \")\n",
    "    for [topicid, _, docid, rel] in tsvreader:\n",
    "        assert rel == \"1\"\n",
    "        if topicid in qrel:\n",
    "            qrel[topicid].append(docid)\n",
    "        else:\n",
    "            qrel[topicid] = [docid]"
   ],
   "metadata": {
    "collapsed": false,
    "pycharm": {
     "name": "#%%\n"
    }
   }
  },
  {
   "cell_type": "code",
   "execution_count": 75,
   "outputs": [],
   "source": [
    "def compute_doc_tf(query, document_id):\n",
    "    val = 0\n",
    "    query_terms = index_reader.analyze(query)\n",
    "    doc_vector = index_reader.get_document_vector(document_id)\n",
    "\n",
    "    for term in query_terms:\n",
    "        tf = doc_vector.get(term,0)\n",
    "        val += tf\n",
    "    return val\n"
   ],
   "metadata": {
    "collapsed": false,
    "pycharm": {
     "name": "#%%\n"
    }
   }
  },
  {
   "cell_type": "code",
   "execution_count": 81,
   "outputs": [],
   "source": [
    "def compute_tf(query, string):\n",
    "    val = 0\n",
    "    query_terms = index_reader.analyze(query)\n",
    "    string_terms = index_reader.analyze(string)\n",
    "    string_terms_counts = Counter(string_terms)\n",
    "    for term in query_terms:\n",
    "        val += string_terms_counts.get(term,0)\n",
    "    return val\n"
   ],
   "metadata": {
    "collapsed": false,
    "pycharm": {
     "name": "#%%\n"
    }
   }
  },
  {
   "cell_type": "code",
   "execution_count": 118,
   "outputs": [],
   "source": [
    "with open('data/msmarco-doc-libsvm/msmarco-doctrain-libsv.txt', 'w', newline='') as csvfile:\n",
    "    csvwriter = csv.writer(csvfile, delimiter=' ')\n",
    "    for query_id in itertools.islice(querystring, 10):\n",
    "        query = querystring[query_id]\n",
    "        rel_doc_ids = qrel[query_id]\n",
    "        for rel_doc_id in rel_doc_ids:\n",
    "            doc_tf = compute_doc_tf(query,rel_doc_id)\n",
    "            doc_len = len(index_reader.doc(rel_doc_id).raw())\n",
    "            csvwriter.writerow([1,f\"qid:{query_id}\",f\"1:{doc_tf}\", f\"2:{doc_len}\", f\"#DOCID:{rel_doc_id}\"])\n"
   ],
   "metadata": {
    "collapsed": false,
    "pycharm": {
     "name": "#%%\n"
    }
   }
  },
  {
   "cell_type": "code",
   "execution_count": 87,
   "outputs": [],
   "source": [
    "d = index_reader.doc('D2192591')"
   ],
   "metadata": {
    "collapsed": false,
    "pycharm": {
     "name": "#%%\n"
    }
   }
  },
  {
   "cell_type": "code",
   "execution_count": 93,
   "outputs": [
    {
     "data": {
      "text/plain": "10066"
     },
     "execution_count": 93,
     "metadata": {},
     "output_type": "execute_result"
    }
   ],
   "source": [
    "len(d.raw())"
   ],
   "metadata": {
    "collapsed": false,
    "pycharm": {
     "name": "#%%\n"
    }
   }
  },
  {
   "cell_type": "code",
   "execution_count": null,
   "outputs": [],
   "source": [],
   "metadata": {
    "collapsed": false,
    "pycharm": {
     "name": "#%%\n"
    }
   }
  }
 ],
 "metadata": {
  "kernelspec": {
   "display_name": "Python 3",
   "language": "python",
   "name": "python3"
  },
  "language_info": {
   "codemirror_mode": {
    "name": "ipython",
    "version": 2
   },
   "file_extension": ".py",
   "mimetype": "text/x-python",
   "name": "python",
   "nbconvert_exporter": "python",
   "pygments_lexer": "ipython2",
   "version": "2.7.6"
  }
 },
 "nbformat": 4,
 "nbformat_minor": 0
}