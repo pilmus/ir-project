{
 "cells": [
  {
   "cell_type": "code",
   "execution_count": 1,
   "metadata": {},
   "outputs": [],
   "source": [
    "import pandas as pd\n",
    "import seaborn as sns\n",
    "sns.set()\n",
    "\n",
    "import matplotlib.pyplot as plt\n",
    "%matplotlib inline"
   ]
  },
  {
   "cell_type": "code",
   "execution_count": 2,
   "metadata": {
    "pycharm": {
     "name": "#%%\n"
    }
   },
   "outputs": [],
   "source": [
    "def split_feature(feature_str):\n",
    "    return float(feature_str.split(\":\")[1])"
   ]
  },
  {
   "cell_type": "code",
   "execution_count": 3,
   "metadata": {
    "pycharm": {
     "name": "#%%\n"
    }
   },
   "outputs": [],
   "source": [
    "def multiply_feature(feature_str):\n",
    "    return 10000000 * split_feature(feature_str)"
   ]
  },
  {
   "cell_type": "code",
   "execution_count": 4,
   "metadata": {
    "pycharm": {
     "name": "#%%\n"
    }
   },
   "outputs": [],
   "source": [
    "COLS = ['len',\n",
    "        'tf',\n",
    "        'idf',\n",
    "        'tfidf',\n",
    "        'bm25',\n",
    "        'lmirjm',\n",
    "        'lmirdir',\n",
    "        'lmirabs',]"
   ]
  },
  {
   "cell_type": "code",
   "execution_count": 7,
   "metadata": {
    "pycharm": {
     "name": "#%%\n"
    }
   },
   "outputs": [],
   "source": [
    "def libsvm_to_df(libsvm_file):\n",
    "\n",
    "    converters = {feature_name:split_feature for feature_name in COLS}\n",
    "    converters['lmirjm'] = multiply_feature\n",
    "    converters['lmirdir'] = multiply_feature\n",
    "    converters['lmirabs'] = multiply_feature\n",
    "    df = pd.read_csv(libsvm_file,\n",
    "                sep=' ',\n",
    "                header=None,\n",
    "                names = ['label', 'qid'] + COLS + [\"#\", \"docid\"],\n",
    "                usecols=COLS,\n",
    "                converters=converters)\n",
    "    return df\n"
   ]
  },
  {
   "cell_type": "code",
   "execution_count": 8,
   "metadata": {
    "pycharm": {
     "name": "#%%\n"
    }
   },
   "outputs": [],
   "source": [
    "# df_train = libsvm_to_df('../data/libsvm_train.txt')\n",
    "# df_dev = libsvm_to_df('../data/libsvm_dev.txt')\n",
    "df_test = libsvm_to_df('../data/libsvm_test.txt')"
   ]
  },
  {
   "cell_type": "code",
   "execution_count": null,
   "metadata": {
    "pycharm": {
     "name": "#%%\n"
    }
   },
   "outputs": [],
   "source": [
    "# fig, ax = plt.subplots(1,8)\n",
    "# for i, feature in enumerate(COLS):\n",
    "#     print(f\"Making histplot for {feature}...\")\n",
    "#     sns.histplot(df_test[feature], ax=ax[i])\n",
    "# plt.show()\n",
    "\n"
   ]
  },
  {
   "cell_type": "code",
   "execution_count": 10,
   "metadata": {},
   "outputs": [
    {
     "data": {
      "text/plain": [
       "count    2.000000e+04\n",
       "mean     1.610587e+00\n",
       "std      1.206526e+01\n",
       "min      0.000000e+00\n",
       "25%      1.693520e-10\n",
       "50%      2.047488e-06\n",
       "75%      3.476187e-03\n",
       "max      3.951795e+02\n",
       "Name: lmirdir, dtype: float64"
      ]
     },
     "execution_count": 10,
     "metadata": {},
     "output_type": "execute_result"
    }
   ],
   "source": [
    "df_test['lmirdir'].describe()"
   ]
  },
  {
   "cell_type": "code",
   "execution_count": null,
   "metadata": {
    "pycharm": {
     "name": "#%%\n"
    }
   },
   "outputs": [],
   "source": [
    "sns.displot(df_test['lmirdir'])"
   ]
  },
  {
   "cell_type": "code",
   "execution_count": 12,
   "metadata": {
    "pycharm": {
     "name": "#%%\n"
    }
   },
   "outputs": [
    {
     "data": {
      "text/plain": [
       "count    2.000000e+04\n",
       "mean     2.596215e+00\n",
       "std      2.503204e+01\n",
       "min      0.000000e+00\n",
       "25%      8.832688e-11\n",
       "50%      1.120226e-06\n",
       "75%      2.570758e-03\n",
       "max      9.230655e+02\n",
       "Name: lmirabs, dtype: float64"
      ]
     },
     "execution_count": 12,
     "metadata": {},
     "output_type": "execute_result"
    }
   ],
   "source": [
    "df_test['lmirabs'].describe()\n",
    "\n",
    "\n"
   ]
  }
 ],
 "metadata": {
  "kernelspec": {
   "display_name": "Python 3",
   "language": "python",
   "name": "python3"
  },
  "language_info": {
   "codemirror_mode": {
    "name": "ipython",
    "version": 3
   },
   "file_extension": ".py",
   "mimetype": "text/x-python",
   "name": "python",
   "nbconvert_exporter": "python",
   "pygments_lexer": "ipython3",
   "version": "3.8.3"
  }
 },
 "nbformat": 4,
 "nbformat_minor": 1
}